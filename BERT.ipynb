{
  "cells": [
    {
      "cell_type": "code",
      "execution_count": 246,
      "metadata": {
        "colab": {
          "base_uri": "https://localhost:8080/"
        },
        "id": "_hYGc8C08sKB",
        "outputId": "42391a5d-6657-4a28-d699-20e1b15c6ebe"
      },
      "outputs": [
        {
          "output_type": "stream",
          "name": "stdout",
          "text": [
            "Requirement already satisfied: pytorch-pretrained-bert in /usr/local/lib/python3.7/dist-packages (0.6.2)\n",
            "Requirement already satisfied: pytorch-nlp in /usr/local/lib/python3.7/dist-packages (0.5.0)\n",
            "Requirement already satisfied: numpy in /usr/local/lib/python3.7/dist-packages (from pytorch-pretrained-bert) (1.21.6)\n",
            "Requirement already satisfied: regex in /usr/local/lib/python3.7/dist-packages (from pytorch-pretrained-bert) (2019.12.20)\n",
            "Requirement already satisfied: torch>=0.4.1 in /usr/local/lib/python3.7/dist-packages (from pytorch-pretrained-bert) (1.11.0+cu113)\n",
            "Requirement already satisfied: boto3 in /usr/local/lib/python3.7/dist-packages (from pytorch-pretrained-bert) (1.22.9)\n",
            "Requirement already satisfied: requests in /usr/local/lib/python3.7/dist-packages (from pytorch-pretrained-bert) (2.23.0)\n",
            "Requirement already satisfied: tqdm in /usr/local/lib/python3.7/dist-packages (from pytorch-pretrained-bert) (4.64.0)\n",
            "Requirement already satisfied: typing-extensions in /usr/local/lib/python3.7/dist-packages (from torch>=0.4.1->pytorch-pretrained-bert) (4.2.0)\n",
            "Requirement already satisfied: jmespath<2.0.0,>=0.7.1 in /usr/local/lib/python3.7/dist-packages (from boto3->pytorch-pretrained-bert) (1.0.0)\n",
            "Requirement already satisfied: s3transfer<0.6.0,>=0.5.0 in /usr/local/lib/python3.7/dist-packages (from boto3->pytorch-pretrained-bert) (0.5.2)\n",
            "Requirement already satisfied: botocore<1.26.0,>=1.25.9 in /usr/local/lib/python3.7/dist-packages (from boto3->pytorch-pretrained-bert) (1.25.9)\n",
            "Requirement already satisfied: urllib3<1.27,>=1.25.4 in /usr/local/lib/python3.7/dist-packages (from botocore<1.26.0,>=1.25.9->boto3->pytorch-pretrained-bert) (1.25.11)\n",
            "Requirement already satisfied: python-dateutil<3.0.0,>=2.1 in /usr/local/lib/python3.7/dist-packages (from botocore<1.26.0,>=1.25.9->boto3->pytorch-pretrained-bert) (2.8.2)\n",
            "Requirement already satisfied: six>=1.5 in /usr/local/lib/python3.7/dist-packages (from python-dateutil<3.0.0,>=2.1->botocore<1.26.0,>=1.25.9->boto3->pytorch-pretrained-bert) (1.15.0)\n",
            "Requirement already satisfied: idna<3,>=2.5 in /usr/local/lib/python3.7/dist-packages (from requests->pytorch-pretrained-bert) (2.10)\n",
            "Requirement already satisfied: certifi>=2017.4.17 in /usr/local/lib/python3.7/dist-packages (from requests->pytorch-pretrained-bert) (2021.10.8)\n",
            "Requirement already satisfied: chardet<4,>=3.0.2 in /usr/local/lib/python3.7/dist-packages (from requests->pytorch-pretrained-bert) (3.0.4)\n"
          ]
        }
      ],
      "source": [
        "!pip install pytorch-pretrained-bert pytorch-nlp"
      ]
    },
    {
      "cell_type": "code",
      "execution_count": 247,
      "metadata": {
        "id": "gO0eVargyChn"
      },
      "outputs": [],
      "source": [
        "# !pip uninstall urllib3\n",
        "# !pip install --upgrade urllib3"
      ]
    },
    {
      "cell_type": "code",
      "execution_count": 248,
      "metadata": {
        "id": "0gsNYf848pXY"
      },
      "outputs": [],
      "source": [
        "# Import Libraries\n",
        "\n",
        "import tensorflow as tf\n",
        "import torch\n",
        "from torch.utils.data import TensorDataset, DataLoader, RandomSampler, SequentialSampler\n",
        "from keras.preprocessing.sequence import pad_sequences\n",
        "from sklearn.model_selection import train_test_split\n",
        "from pytorch_pretrained_bert import BertTokenizer, BertConfig\n",
        "from pytorch_pretrained_bert import BertAdam, BertForSequenceClassification\n",
        "from tqdm import tqdm, trange\n",
        "import pandas as pd\n",
        "import io\n",
        "import numpy as np\n",
        "import matplotlib.pyplot as plt\n",
        "%matplotlib inline"
      ]
    },
    {
      "cell_type": "code",
      "execution_count": 249,
      "metadata": {
        "colab": {
          "base_uri": "https://localhost:8080/"
        },
        "id": "jOU6IVXEyc2H",
        "outputId": "58595aad-1c36-4eb3-9ed4-f4534db04f8c"
      },
      "outputs": [
        {
          "output_type": "stream",
          "name": "stdout",
          "text": [
            "Mounted at /drive\n"
          ]
        }
      ],
      "source": [
        "from google.colab import drive\n",
        "drive.mount('/drive')"
      ]
    },
    {
      "cell_type": "code",
      "execution_count": 250,
      "metadata": {
        "id": "DtfXeBnh7j1k"
      },
      "outputs": [],
      "source": [
        "\n",
        "\n",
        "df_train = pd.read_csv(\"/drive/My Drive/ML final project/train.csv\", header=None,names=['ID', 'sentence', 'selected_sentence', 'sentiment'])\n",
        "#, delimiter='\\t', header=None, names=['textID', 'text', 'selected_text', 'sentiment']    delimiter='\\t', header=None,\n",
        "df_test = pd.read_csv(\"/drive/My Drive/ML final project/test.csv\", header=None,names=['ID', 'sentence', 'sentiment'])\n"
      ]
    },
    {
      "cell_type": "code",
      "execution_count": 251,
      "metadata": {
        "colab": {
          "base_uri": "https://localhost:8080/"
        },
        "id": "kbOmaLAT9Ie1",
        "outputId": "2b8162f7-8f89-416f-d5e7-290dabc86d8a"
      },
      "outputs": [
        {
          "output_type": "execute_result",
          "data": {
            "text/plain": [
              "pandas.core.frame.DataFrame"
            ]
          },
          "metadata": {},
          "execution_count": 251
        }
      ],
      "source": [
        "type(df_test)"
      ]
    },
    {
      "cell_type": "code",
      "execution_count": 252,
      "metadata": {
        "colab": {
          "base_uri": "https://localhost:8080/"
        },
        "id": "oeGHtI9gAVUV",
        "outputId": "62f234f6-7c8f-4f8c-e135-a5cbf7c806b0"
      },
      "outputs": [
        {
          "output_type": "execute_result",
          "data": {
            "text/plain": [
              "pandas.core.series.Series"
            ]
          },
          "metadata": {},
          "execution_count": 252
        }
      ],
      "source": [
        "a = df_train.sentence\n",
        "type(a)"
      ]
    },
    {
      "cell_type": "code",
      "execution_count": 253,
      "metadata": {
        "id": "OpGAFh6zku1S"
      },
      "outputs": [],
      "source": [
        "import re\n",
        "\n",
        "def preprocess(message):\n",
        "    \"\"\"\n",
        "    This function takes a string as input, then performs these operations: \n",
        "        - lowercase\n",
        "        - remove URLs\n",
        "        - remove ticker symbols \n",
        "        - removes punctuation\n",
        "        - removes any single character tokens\n",
        "    Parameters\n",
        "    ----------\n",
        "        message : The text message to be preprocessed\n",
        "    Returns\n",
        "    -------\n",
        "        text: The preprocessed text\n",
        "    \"\"\" \n",
        "    # Lowercase the twit message\n",
        "    text = message.lower()\n",
        "    # Replace URLs with a space in the message\n",
        "    text = re.sub('https?:\\/\\/[a-zA-Z0-9@:%._\\/+~#=?&;-]*', ' ', text)\n",
        "    # Replace ticker symbols with a space. The ticker symbols are any stock symbol that starts with $.\n",
        "    text = re.sub('\\$[a-zA-Z0-9]*', ' ', text)\n",
        "    # Replace StockTwits usernames with a space. The usernames are any word that starts with @.\n",
        "    text = re.sub('\\@[a-zA-Z0-9]*', ' ', text)\n",
        "    # Replace everything not a letter or apostrophe with a space\n",
        "    text = re.sub('[^a-zA-Z\\']', ' ', text)\n",
        "    # Remove single letter words\n",
        "    text = ' '.join( [w for w in text.split() if len(w)>1] )\n",
        "    \n",
        "    return text"
      ]
    },
    {
      "cell_type": "code",
      "execution_count": 254,
      "metadata": {
        "colab": {
          "base_uri": "https://localhost:8080/"
        },
        "id": "KTjGwVaflLb5",
        "outputId": "0066365d-8f12-45d7-d073-0593c3a7da93"
      },
      "outputs": [
        {
          "output_type": "stream",
          "name": "stdout",
          "text": [
            "stackeoverflow\n"
          ]
        }
      ],
      "source": [
        "a = '\t#stackeoverflow http://bit.ly/13Nfk1'\n",
        "print(preprocess(a))"
      ]
    },
    {
      "cell_type": "code",
      "execution_count": 255,
      "metadata": {
        "colab": {
          "base_uri": "https://localhost:8080/",
          "height": 677
        },
        "id": "orjNOS-Atpkc",
        "outputId": "96b03968-d78d-4b10-b2d7-533b06edeb4c"
      },
      "outputs": [
        {
          "output_type": "execute_result",
          "data": {
            "text/plain": [
              "            ID                                           sentence  \\\n",
              "0       textID                                               text   \n",
              "1   cb774db0d1                I`d have responded, if I were going   \n",
              "2   549e992a42      Sooo SAD I will miss you here in San Diego!!!   \n",
              "3   088c60f138                          my boss is bullying me...   \n",
              "4   9642c003ef                     what interview! leave me alone   \n",
              "5   358bd9e861   Sons of ****, why couldn`t they put them on t...   \n",
              "6   28b57f3990  http://www.dothebouncy.com/smf - some shameles...   \n",
              "7   6e0c6d75b1  2am feedings for the baby are fun when he is a...   \n",
              "8   50e14c0bb8                                         Soooo high   \n",
              "9   e050245fbd                                        Both of you   \n",
              "10  fc2cbefa9d   Journey!? Wow... u just became cooler.  hehe....   \n",
              "11  2339a9b08b   as much as i love to be hopeful, i reckon the...   \n",
              "12  16fab9f95b  I really really like the song Love Story by Ta...   \n",
              "13  74a76f6e0a       My Sharpie is running DANGERously low on ink   \n",
              "14  04dd1d2e34  i want to go to music tonight but i lost my vo...   \n",
              "15  bbe3cbf620                         test test from the LG enV2   \n",
              "16  8a939bfb59                              Uh oh, I am sunburned   \n",
              "17  3440297f8b   S`ok, trying to plot alternatives as we speak...   \n",
              "18  919fa93391  i`ve been sick for the past few days  and thus...   \n",
              "19  af3fed7fc3         is back home now      gonna miss every one   \n",
              "\n",
              "                                    selected_sentence  sentiment  \n",
              "0                                       selected_text  sentiment  \n",
              "1                 I`d have responded, if I were going    neutral  \n",
              "2                                            Sooo SAD   negative  \n",
              "3                                         bullying me   negative  \n",
              "4                                      leave me alone   negative  \n",
              "5                                       Sons of ****,   negative  \n",
              "6   http://www.dothebouncy.com/smf - some shameles...    neutral  \n",
              "7                                                 fun   positive  \n",
              "8                                          Soooo high    neutral  \n",
              "9                                         Both of you    neutral  \n",
              "10                       Wow... u just became cooler.   positive  \n",
              "11  as much as i love to be hopeful, i reckon the ...    neutral  \n",
              "12                                               like   positive  \n",
              "13                                        DANGERously   negative  \n",
              "14                                               lost   negative  \n",
              "15                         test test from the LG enV2    neutral  \n",
              "16                              Uh oh, I am sunburned   negative  \n",
              "17                                             *sigh*   negative  \n",
              "18                                               sick   negative  \n",
              "19                                               onna   negative  "
            ],
            "text/html": [
              "\n",
              "  <div id=\"df-f8604fec-3719-4aaf-ba49-c44f3a8fbd4d\">\n",
              "    <div class=\"colab-df-container\">\n",
              "      <div>\n",
              "<style scoped>\n",
              "    .dataframe tbody tr th:only-of-type {\n",
              "        vertical-align: middle;\n",
              "    }\n",
              "\n",
              "    .dataframe tbody tr th {\n",
              "        vertical-align: top;\n",
              "    }\n",
              "\n",
              "    .dataframe thead th {\n",
              "        text-align: right;\n",
              "    }\n",
              "</style>\n",
              "<table border=\"1\" class=\"dataframe\">\n",
              "  <thead>\n",
              "    <tr style=\"text-align: right;\">\n",
              "      <th></th>\n",
              "      <th>ID</th>\n",
              "      <th>sentence</th>\n",
              "      <th>selected_sentence</th>\n",
              "      <th>sentiment</th>\n",
              "    </tr>\n",
              "  </thead>\n",
              "  <tbody>\n",
              "    <tr>\n",
              "      <th>0</th>\n",
              "      <td>textID</td>\n",
              "      <td>text</td>\n",
              "      <td>selected_text</td>\n",
              "      <td>sentiment</td>\n",
              "    </tr>\n",
              "    <tr>\n",
              "      <th>1</th>\n",
              "      <td>cb774db0d1</td>\n",
              "      <td>I`d have responded, if I were going</td>\n",
              "      <td>I`d have responded, if I were going</td>\n",
              "      <td>neutral</td>\n",
              "    </tr>\n",
              "    <tr>\n",
              "      <th>2</th>\n",
              "      <td>549e992a42</td>\n",
              "      <td>Sooo SAD I will miss you here in San Diego!!!</td>\n",
              "      <td>Sooo SAD</td>\n",
              "      <td>negative</td>\n",
              "    </tr>\n",
              "    <tr>\n",
              "      <th>3</th>\n",
              "      <td>088c60f138</td>\n",
              "      <td>my boss is bullying me...</td>\n",
              "      <td>bullying me</td>\n",
              "      <td>negative</td>\n",
              "    </tr>\n",
              "    <tr>\n",
              "      <th>4</th>\n",
              "      <td>9642c003ef</td>\n",
              "      <td>what interview! leave me alone</td>\n",
              "      <td>leave me alone</td>\n",
              "      <td>negative</td>\n",
              "    </tr>\n",
              "    <tr>\n",
              "      <th>5</th>\n",
              "      <td>358bd9e861</td>\n",
              "      <td>Sons of ****, why couldn`t they put them on t...</td>\n",
              "      <td>Sons of ****,</td>\n",
              "      <td>negative</td>\n",
              "    </tr>\n",
              "    <tr>\n",
              "      <th>6</th>\n",
              "      <td>28b57f3990</td>\n",
              "      <td>http://www.dothebouncy.com/smf - some shameles...</td>\n",
              "      <td>http://www.dothebouncy.com/smf - some shameles...</td>\n",
              "      <td>neutral</td>\n",
              "    </tr>\n",
              "    <tr>\n",
              "      <th>7</th>\n",
              "      <td>6e0c6d75b1</td>\n",
              "      <td>2am feedings for the baby are fun when he is a...</td>\n",
              "      <td>fun</td>\n",
              "      <td>positive</td>\n",
              "    </tr>\n",
              "    <tr>\n",
              "      <th>8</th>\n",
              "      <td>50e14c0bb8</td>\n",
              "      <td>Soooo high</td>\n",
              "      <td>Soooo high</td>\n",
              "      <td>neutral</td>\n",
              "    </tr>\n",
              "    <tr>\n",
              "      <th>9</th>\n",
              "      <td>e050245fbd</td>\n",
              "      <td>Both of you</td>\n",
              "      <td>Both of you</td>\n",
              "      <td>neutral</td>\n",
              "    </tr>\n",
              "    <tr>\n",
              "      <th>10</th>\n",
              "      <td>fc2cbefa9d</td>\n",
              "      <td>Journey!? Wow... u just became cooler.  hehe....</td>\n",
              "      <td>Wow... u just became cooler.</td>\n",
              "      <td>positive</td>\n",
              "    </tr>\n",
              "    <tr>\n",
              "      <th>11</th>\n",
              "      <td>2339a9b08b</td>\n",
              "      <td>as much as i love to be hopeful, i reckon the...</td>\n",
              "      <td>as much as i love to be hopeful, i reckon the ...</td>\n",
              "      <td>neutral</td>\n",
              "    </tr>\n",
              "    <tr>\n",
              "      <th>12</th>\n",
              "      <td>16fab9f95b</td>\n",
              "      <td>I really really like the song Love Story by Ta...</td>\n",
              "      <td>like</td>\n",
              "      <td>positive</td>\n",
              "    </tr>\n",
              "    <tr>\n",
              "      <th>13</th>\n",
              "      <td>74a76f6e0a</td>\n",
              "      <td>My Sharpie is running DANGERously low on ink</td>\n",
              "      <td>DANGERously</td>\n",
              "      <td>negative</td>\n",
              "    </tr>\n",
              "    <tr>\n",
              "      <th>14</th>\n",
              "      <td>04dd1d2e34</td>\n",
              "      <td>i want to go to music tonight but i lost my vo...</td>\n",
              "      <td>lost</td>\n",
              "      <td>negative</td>\n",
              "    </tr>\n",
              "    <tr>\n",
              "      <th>15</th>\n",
              "      <td>bbe3cbf620</td>\n",
              "      <td>test test from the LG enV2</td>\n",
              "      <td>test test from the LG enV2</td>\n",
              "      <td>neutral</td>\n",
              "    </tr>\n",
              "    <tr>\n",
              "      <th>16</th>\n",
              "      <td>8a939bfb59</td>\n",
              "      <td>Uh oh, I am sunburned</td>\n",
              "      <td>Uh oh, I am sunburned</td>\n",
              "      <td>negative</td>\n",
              "    </tr>\n",
              "    <tr>\n",
              "      <th>17</th>\n",
              "      <td>3440297f8b</td>\n",
              "      <td>S`ok, trying to plot alternatives as we speak...</td>\n",
              "      <td>*sigh*</td>\n",
              "      <td>negative</td>\n",
              "    </tr>\n",
              "    <tr>\n",
              "      <th>18</th>\n",
              "      <td>919fa93391</td>\n",
              "      <td>i`ve been sick for the past few days  and thus...</td>\n",
              "      <td>sick</td>\n",
              "      <td>negative</td>\n",
              "    </tr>\n",
              "    <tr>\n",
              "      <th>19</th>\n",
              "      <td>af3fed7fc3</td>\n",
              "      <td>is back home now      gonna miss every one</td>\n",
              "      <td>onna</td>\n",
              "      <td>negative</td>\n",
              "    </tr>\n",
              "  </tbody>\n",
              "</table>\n",
              "</div>\n",
              "      <button class=\"colab-df-convert\" onclick=\"convertToInteractive('df-f8604fec-3719-4aaf-ba49-c44f3a8fbd4d')\"\n",
              "              title=\"Convert this dataframe to an interactive table.\"\n",
              "              style=\"display:none;\">\n",
              "        \n",
              "  <svg xmlns=\"http://www.w3.org/2000/svg\" height=\"24px\"viewBox=\"0 0 24 24\"\n",
              "       width=\"24px\">\n",
              "    <path d=\"M0 0h24v24H0V0z\" fill=\"none\"/>\n",
              "    <path d=\"M18.56 5.44l.94 2.06.94-2.06 2.06-.94-2.06-.94-.94-2.06-.94 2.06-2.06.94zm-11 1L8.5 8.5l.94-2.06 2.06-.94-2.06-.94L8.5 2.5l-.94 2.06-2.06.94zm10 10l.94 2.06.94-2.06 2.06-.94-2.06-.94-.94-2.06-.94 2.06-2.06.94z\"/><path d=\"M17.41 7.96l-1.37-1.37c-.4-.4-.92-.59-1.43-.59-.52 0-1.04.2-1.43.59L10.3 9.45l-7.72 7.72c-.78.78-.78 2.05 0 2.83L4 21.41c.39.39.9.59 1.41.59.51 0 1.02-.2 1.41-.59l7.78-7.78 2.81-2.81c.8-.78.8-2.07 0-2.86zM5.41 20L4 18.59l7.72-7.72 1.47 1.35L5.41 20z\"/>\n",
              "  </svg>\n",
              "      </button>\n",
              "      \n",
              "  <style>\n",
              "    .colab-df-container {\n",
              "      display:flex;\n",
              "      flex-wrap:wrap;\n",
              "      gap: 12px;\n",
              "    }\n",
              "\n",
              "    .colab-df-convert {\n",
              "      background-color: #E8F0FE;\n",
              "      border: none;\n",
              "      border-radius: 50%;\n",
              "      cursor: pointer;\n",
              "      display: none;\n",
              "      fill: #1967D2;\n",
              "      height: 32px;\n",
              "      padding: 0 0 0 0;\n",
              "      width: 32px;\n",
              "    }\n",
              "\n",
              "    .colab-df-convert:hover {\n",
              "      background-color: #E2EBFA;\n",
              "      box-shadow: 0px 1px 2px rgba(60, 64, 67, 0.3), 0px 1px 3px 1px rgba(60, 64, 67, 0.15);\n",
              "      fill: #174EA6;\n",
              "    }\n",
              "\n",
              "    [theme=dark] .colab-df-convert {\n",
              "      background-color: #3B4455;\n",
              "      fill: #D2E3FC;\n",
              "    }\n",
              "\n",
              "    [theme=dark] .colab-df-convert:hover {\n",
              "      background-color: #434B5C;\n",
              "      box-shadow: 0px 1px 3px 1px rgba(0, 0, 0, 0.15);\n",
              "      filter: drop-shadow(0px 1px 2px rgba(0, 0, 0, 0.3));\n",
              "      fill: #FFFFFF;\n",
              "    }\n",
              "  </style>\n",
              "\n",
              "      <script>\n",
              "        const buttonEl =\n",
              "          document.querySelector('#df-f8604fec-3719-4aaf-ba49-c44f3a8fbd4d button.colab-df-convert');\n",
              "        buttonEl.style.display =\n",
              "          google.colab.kernel.accessAllowed ? 'block' : 'none';\n",
              "\n",
              "        async function convertToInteractive(key) {\n",
              "          const element = document.querySelector('#df-f8604fec-3719-4aaf-ba49-c44f3a8fbd4d');\n",
              "          const dataTable =\n",
              "            await google.colab.kernel.invokeFunction('convertToInteractive',\n",
              "                                                     [key], {});\n",
              "          if (!dataTable) return;\n",
              "\n",
              "          const docLinkHtml = 'Like what you see? Visit the ' +\n",
              "            '<a target=\"_blank\" href=https://colab.research.google.com/notebooks/data_table.ipynb>data table notebook</a>'\n",
              "            + ' to learn more about interactive tables.';\n",
              "          element.innerHTML = '';\n",
              "          dataTable['output_type'] = 'display_data';\n",
              "          await google.colab.output.renderOutput(dataTable, element);\n",
              "          const docLink = document.createElement('div');\n",
              "          docLink.innerHTML = docLinkHtml;\n",
              "          element.appendChild(docLink);\n",
              "        }\n",
              "      </script>\n",
              "    </div>\n",
              "  </div>\n",
              "  "
            ]
          },
          "metadata": {},
          "execution_count": 255
        }
      ],
      "source": [
        "df_train.head(20)"
      ]
    },
    {
      "cell_type": "code",
      "execution_count": 256,
      "metadata": {
        "colab": {
          "base_uri": "https://localhost:8080/"
        },
        "id": "SpLtYiiQvky_",
        "outputId": "5daa2f31-792b-4fce-90e3-bafeea9969f1"
      },
      "outputs": [
        {
          "output_type": "execute_result",
          "data": {
            "text/plain": [
              "str"
            ]
          },
          "metadata": {},
          "execution_count": 256
        }
      ],
      "source": [
        "type(df_train.selected_sentence.iloc[2])"
      ]
    },
    {
      "cell_type": "code",
      "execution_count": 257,
      "metadata": {
        "id": "WpQjsgYoqxvf"
      },
      "outputs": [],
      "source": [
        "# df_train['sentence'] = df_train.sentence.astype(str)\n",
        "df_train[\"sentence\"]=df_train.sentence.astype(str)\n",
        "df_train.selected_sentence = df_train.selected_sentence.astype(str)\n",
        "\n",
        "df_test.sentence = df_test.sentence.astype(str)\n",
        "\n",
        "for index in range(df_train.shape[0]):\n",
        "   string = df_train.selected_sentence.iloc[index]\n",
        "   string = preprocess(string)\n",
        "   string1 = df_train.sentence.iloc[index]\n",
        "   string1 = preprocess(string1)\n",
        "   # Select column by index position using iloc[]\n",
        "   df_train.sentence.iloc[index] = string1\n",
        "   df_train.selected_sentence.iloc[index]= string\n",
        "\n",
        "for index in range(df_test.shape[0]):\n",
        "   string = df_test.sentence.iloc[index]\n",
        "   string = preprocess(string)\n",
        "   df_test.sentence.iloc[index] = string"
      ]
    },
    {
      "cell_type": "code",
      "execution_count": 258,
      "metadata": {
        "colab": {
          "base_uri": "https://localhost:8080/"
        },
        "id": "OyJjFGpg_J4W",
        "outputId": "ecc74e9d-b0b5-4b20-bb37-9be0ffdf4233"
      },
      "outputs": [
        {
          "output_type": "stream",
          "name": "stdout",
          "text": [
            "shape of train\n",
            "27482\n",
            "shape of test\n"
          ]
        },
        {
          "output_type": "execute_result",
          "data": {
            "text/plain": [
              "(3535, 3)"
            ]
          },
          "metadata": {},
          "execution_count": 258
        }
      ],
      "source": [
        "print('shape of train')\n",
        "print(df_train.shape[0])\n",
        "print('shape of test')\n",
        "df_test.shape"
      ]
    },
    {
      "cell_type": "code",
      "execution_count": 259,
      "metadata": {
        "colab": {
          "base_uri": "https://localhost:8080/",
          "height": 424
        },
        "id": "pZBQDvTFoJRE",
        "outputId": "724e118b-e782-4006-c792-4c0d0aee9e9b"
      },
      "outputs": [
        {
          "output_type": "execute_result",
          "data": {
            "text/plain": [
              "               ID                                           sentence  \\\n",
              "0          textID                                               text   \n",
              "1      cb774db0d1                       have responded if were going   \n",
              "2      549e992a42           sooo sad will miss you here in san diego   \n",
              "3      088c60f138                             my boss is bullying me   \n",
              "4      9642c003ef                      what interview leave me alone   \n",
              "...           ...                                                ...   \n",
              "27477  4eac33d1c0  wish we could come see on denver husband lost ...   \n",
              "27478  4f4c4fc327  ve wondered about rake to the client has made ...   \n",
              "27479  f67aae2310  yay good for both of you enjoy the break you p...   \n",
              "27480  ed167662a5                                but it was worth it   \n",
              "27481  6f7127d9d7  all this flirting going on the atg smiles yay ...   \n",
              "\n",
              "                                       selected_sentence  sentiment  \n",
              "0                                          selected text  sentiment  \n",
              "1                           have responded if were going    neutral  \n",
              "2                                               sooo sad   negative  \n",
              "3                                            bullying me   negative  \n",
              "4                                         leave me alone   negative  \n",
              "...                                                  ...        ...  \n",
              "27477                                               lost   negative  \n",
              "27478                                          don force   negative  \n",
              "27479                           yay good for both of you   positive  \n",
              "27480                                but it was worth it   positive  \n",
              "27481  all this flirting going on the atg smiles yay ...    neutral  \n",
              "\n",
              "[27482 rows x 4 columns]"
            ],
            "text/html": [
              "\n",
              "  <div id=\"df-5271203e-670b-4360-b308-d6ce442aee97\">\n",
              "    <div class=\"colab-df-container\">\n",
              "      <div>\n",
              "<style scoped>\n",
              "    .dataframe tbody tr th:only-of-type {\n",
              "        vertical-align: middle;\n",
              "    }\n",
              "\n",
              "    .dataframe tbody tr th {\n",
              "        vertical-align: top;\n",
              "    }\n",
              "\n",
              "    .dataframe thead th {\n",
              "        text-align: right;\n",
              "    }\n",
              "</style>\n",
              "<table border=\"1\" class=\"dataframe\">\n",
              "  <thead>\n",
              "    <tr style=\"text-align: right;\">\n",
              "      <th></th>\n",
              "      <th>ID</th>\n",
              "      <th>sentence</th>\n",
              "      <th>selected_sentence</th>\n",
              "      <th>sentiment</th>\n",
              "    </tr>\n",
              "  </thead>\n",
              "  <tbody>\n",
              "    <tr>\n",
              "      <th>0</th>\n",
              "      <td>textID</td>\n",
              "      <td>text</td>\n",
              "      <td>selected text</td>\n",
              "      <td>sentiment</td>\n",
              "    </tr>\n",
              "    <tr>\n",
              "      <th>1</th>\n",
              "      <td>cb774db0d1</td>\n",
              "      <td>have responded if were going</td>\n",
              "      <td>have responded if were going</td>\n",
              "      <td>neutral</td>\n",
              "    </tr>\n",
              "    <tr>\n",
              "      <th>2</th>\n",
              "      <td>549e992a42</td>\n",
              "      <td>sooo sad will miss you here in san diego</td>\n",
              "      <td>sooo sad</td>\n",
              "      <td>negative</td>\n",
              "    </tr>\n",
              "    <tr>\n",
              "      <th>3</th>\n",
              "      <td>088c60f138</td>\n",
              "      <td>my boss is bullying me</td>\n",
              "      <td>bullying me</td>\n",
              "      <td>negative</td>\n",
              "    </tr>\n",
              "    <tr>\n",
              "      <th>4</th>\n",
              "      <td>9642c003ef</td>\n",
              "      <td>what interview leave me alone</td>\n",
              "      <td>leave me alone</td>\n",
              "      <td>negative</td>\n",
              "    </tr>\n",
              "    <tr>\n",
              "      <th>...</th>\n",
              "      <td>...</td>\n",
              "      <td>...</td>\n",
              "      <td>...</td>\n",
              "      <td>...</td>\n",
              "    </tr>\n",
              "    <tr>\n",
              "      <th>27477</th>\n",
              "      <td>4eac33d1c0</td>\n",
              "      <td>wish we could come see on denver husband lost ...</td>\n",
              "      <td>lost</td>\n",
              "      <td>negative</td>\n",
              "    </tr>\n",
              "    <tr>\n",
              "      <th>27478</th>\n",
              "      <td>4f4c4fc327</td>\n",
              "      <td>ve wondered about rake to the client has made ...</td>\n",
              "      <td>don force</td>\n",
              "      <td>negative</td>\n",
              "    </tr>\n",
              "    <tr>\n",
              "      <th>27479</th>\n",
              "      <td>f67aae2310</td>\n",
              "      <td>yay good for both of you enjoy the break you p...</td>\n",
              "      <td>yay good for both of you</td>\n",
              "      <td>positive</td>\n",
              "    </tr>\n",
              "    <tr>\n",
              "      <th>27480</th>\n",
              "      <td>ed167662a5</td>\n",
              "      <td>but it was worth it</td>\n",
              "      <td>but it was worth it</td>\n",
              "      <td>positive</td>\n",
              "    </tr>\n",
              "    <tr>\n",
              "      <th>27481</th>\n",
              "      <td>6f7127d9d7</td>\n",
              "      <td>all this flirting going on the atg smiles yay ...</td>\n",
              "      <td>all this flirting going on the atg smiles yay ...</td>\n",
              "      <td>neutral</td>\n",
              "    </tr>\n",
              "  </tbody>\n",
              "</table>\n",
              "<p>27482 rows × 4 columns</p>\n",
              "</div>\n",
              "      <button class=\"colab-df-convert\" onclick=\"convertToInteractive('df-5271203e-670b-4360-b308-d6ce442aee97')\"\n",
              "              title=\"Convert this dataframe to an interactive table.\"\n",
              "              style=\"display:none;\">\n",
              "        \n",
              "  <svg xmlns=\"http://www.w3.org/2000/svg\" height=\"24px\"viewBox=\"0 0 24 24\"\n",
              "       width=\"24px\">\n",
              "    <path d=\"M0 0h24v24H0V0z\" fill=\"none\"/>\n",
              "    <path d=\"M18.56 5.44l.94 2.06.94-2.06 2.06-.94-2.06-.94-.94-2.06-.94 2.06-2.06.94zm-11 1L8.5 8.5l.94-2.06 2.06-.94-2.06-.94L8.5 2.5l-.94 2.06-2.06.94zm10 10l.94 2.06.94-2.06 2.06-.94-2.06-.94-.94-2.06-.94 2.06-2.06.94z\"/><path d=\"M17.41 7.96l-1.37-1.37c-.4-.4-.92-.59-1.43-.59-.52 0-1.04.2-1.43.59L10.3 9.45l-7.72 7.72c-.78.78-.78 2.05 0 2.83L4 21.41c.39.39.9.59 1.41.59.51 0 1.02-.2 1.41-.59l7.78-7.78 2.81-2.81c.8-.78.8-2.07 0-2.86zM5.41 20L4 18.59l7.72-7.72 1.47 1.35L5.41 20z\"/>\n",
              "  </svg>\n",
              "      </button>\n",
              "      \n",
              "  <style>\n",
              "    .colab-df-container {\n",
              "      display:flex;\n",
              "      flex-wrap:wrap;\n",
              "      gap: 12px;\n",
              "    }\n",
              "\n",
              "    .colab-df-convert {\n",
              "      background-color: #E8F0FE;\n",
              "      border: none;\n",
              "      border-radius: 50%;\n",
              "      cursor: pointer;\n",
              "      display: none;\n",
              "      fill: #1967D2;\n",
              "      height: 32px;\n",
              "      padding: 0 0 0 0;\n",
              "      width: 32px;\n",
              "    }\n",
              "\n",
              "    .colab-df-convert:hover {\n",
              "      background-color: #E2EBFA;\n",
              "      box-shadow: 0px 1px 2px rgba(60, 64, 67, 0.3), 0px 1px 3px 1px rgba(60, 64, 67, 0.15);\n",
              "      fill: #174EA6;\n",
              "    }\n",
              "\n",
              "    [theme=dark] .colab-df-convert {\n",
              "      background-color: #3B4455;\n",
              "      fill: #D2E3FC;\n",
              "    }\n",
              "\n",
              "    [theme=dark] .colab-df-convert:hover {\n",
              "      background-color: #434B5C;\n",
              "      box-shadow: 0px 1px 3px 1px rgba(0, 0, 0, 0.15);\n",
              "      filter: drop-shadow(0px 1px 2px rgba(0, 0, 0, 0.3));\n",
              "      fill: #FFFFFF;\n",
              "    }\n",
              "  </style>\n",
              "\n",
              "      <script>\n",
              "        const buttonEl =\n",
              "          document.querySelector('#df-5271203e-670b-4360-b308-d6ce442aee97 button.colab-df-convert');\n",
              "        buttonEl.style.display =\n",
              "          google.colab.kernel.accessAllowed ? 'block' : 'none';\n",
              "\n",
              "        async function convertToInteractive(key) {\n",
              "          const element = document.querySelector('#df-5271203e-670b-4360-b308-d6ce442aee97');\n",
              "          const dataTable =\n",
              "            await google.colab.kernel.invokeFunction('convertToInteractive',\n",
              "                                                     [key], {});\n",
              "          if (!dataTable) return;\n",
              "\n",
              "          const docLinkHtml = 'Like what you see? Visit the ' +\n",
              "            '<a target=\"_blank\" href=https://colab.research.google.com/notebooks/data_table.ipynb>data table notebook</a>'\n",
              "            + ' to learn more about interactive tables.';\n",
              "          element.innerHTML = '';\n",
              "          dataTable['output_type'] = 'display_data';\n",
              "          await google.colab.output.renderOutput(dataTable, element);\n",
              "          const docLink = document.createElement('div');\n",
              "          docLink.innerHTML = docLinkHtml;\n",
              "          element.appendChild(docLink);\n",
              "        }\n",
              "      </script>\n",
              "    </div>\n",
              "  </div>\n",
              "  "
            ]
          },
          "metadata": {},
          "execution_count": 259
        }
      ],
      "source": [
        "df_train"
      ]
    },
    {
      "cell_type": "markdown",
      "metadata": {
        "id": "iKjjJnkOo9Kd"
      },
      "source": [
        ""
      ]
    },
    {
      "cell_type": "code",
      "execution_count": 260,
      "metadata": {
        "id": "BpbCpOA_6xF7"
      },
      "outputs": [],
      "source": [
        "# Iterate throught the dataset to replace semantic words to numeric number presentation \n",
        "for row, value in enumerate(df_train['sentiment']):\n",
        "  if value == 'positive':\n",
        "    df_train['sentiment'][row]= 2\n",
        "  if value == 'neutral':\n",
        "    df_train['sentiment'][row]= 1\n",
        "  if value == 'negative':\n",
        "    df_train['sentiment'][row]= 0\n",
        "\n",
        "for row, value in enumerate(df_test['sentiment']):\n",
        "  if value == 'positive':\n",
        "    df_test['sentiment'][row]= 2\n",
        "  if value == 'neutral':\n",
        "    df_test['sentiment'][row]= 1\n",
        "  if value == 'negative':\n",
        "    df_test['sentiment'][row]= 0\n"
      ]
    },
    {
      "cell_type": "code",
      "execution_count": 261,
      "metadata": {
        "colab": {
          "base_uri": "https://localhost:8080/",
          "height": 990
        },
        "id": "9IENYHKVjiT_",
        "outputId": "3f1013d0-bad8-4490-e2aa-ac0149f52502"
      },
      "outputs": [
        {
          "output_type": "execute_result",
          "data": {
            "text/plain": [
              "            ID                                           sentence  sentiment\n",
              "0       textID                                               text  sentiment\n",
              "1   f87dea47db                            last session of the day          1\n",
              "2   96d74cb729  shanghai is also really exciting precisely sky...          2\n",
              "3   eee518ae67  recession hit veronique branquinho she has to ...          0\n",
              "4   01082688c6                                         happy bday          2\n",
              "5   33987a8ee5                                            like it          2\n",
              "6   726e501993                           that great weee visitors          2\n",
              "7   261932614e                think everyone hates me on here lol          0\n",
              "8   afa11da83f  soooooo wish could but im in school and myspac...          0\n",
              "9   e64208b4ef  and within short time of the last clue all of ...          1\n",
              "10  37bcad24ca  what did you get my day is alright haven done ...          1\n",
              "11  24c92644a4  my bike was put on hold should have known that...          0\n",
              "12  43b390b336                                checked we didn win          1\n",
              "13  69d6b5d93e  and you re on twitter did the tavern bore you ...          1\n",
              "14  5c1e0b61a1  in va for the weekend my youngest son turns to...          0\n",
              "15  504e45d9d9  its coming out the socket feel like my phones ...          0\n",
              "16  ae93ad52a0  so hot today don like it and hate my new timet...          0\n",
              "17  9fce30159a                                           miss you          0\n",
              "18  00d5195223                                             cramps          0\n",
              "19  33f19050cf  you guys didn say hi or answer my questions ye...          2\n",
              "20  f7718b3c23  going into spiritual stagnentation its explodi...          1\n",
              "21  9ef44428d0               stupid storm no river for us tonight          0\n",
              "22  be634ebeb0  my dead grandpa pays more attention to me than...          0\n",
              "23  3dcf4f7e13    need retail therapy bad ahhh gimme money geebus          0\n",
              "24  f0ef04109b                               about to go to sleep          1\n",
              "25  8be365118e                  you are lame go make me breakfast          0\n",
              "26  c50bdd4567                                      thats so cool          2\n",
              "27  334954f215  hey peoples dont you just hate being grounded ...          1\n",
              "28  b783916431               huh another scarepoint coding sunday          1\n",
              "29  1fa8e6ad66                        look who found just for you          2"
            ],
            "text/html": [
              "\n",
              "  <div id=\"df-38f2dcfe-5407-4380-9526-7a0b9fb41dd7\">\n",
              "    <div class=\"colab-df-container\">\n",
              "      <div>\n",
              "<style scoped>\n",
              "    .dataframe tbody tr th:only-of-type {\n",
              "        vertical-align: middle;\n",
              "    }\n",
              "\n",
              "    .dataframe tbody tr th {\n",
              "        vertical-align: top;\n",
              "    }\n",
              "\n",
              "    .dataframe thead th {\n",
              "        text-align: right;\n",
              "    }\n",
              "</style>\n",
              "<table border=\"1\" class=\"dataframe\">\n",
              "  <thead>\n",
              "    <tr style=\"text-align: right;\">\n",
              "      <th></th>\n",
              "      <th>ID</th>\n",
              "      <th>sentence</th>\n",
              "      <th>sentiment</th>\n",
              "    </tr>\n",
              "  </thead>\n",
              "  <tbody>\n",
              "    <tr>\n",
              "      <th>0</th>\n",
              "      <td>textID</td>\n",
              "      <td>text</td>\n",
              "      <td>sentiment</td>\n",
              "    </tr>\n",
              "    <tr>\n",
              "      <th>1</th>\n",
              "      <td>f87dea47db</td>\n",
              "      <td>last session of the day</td>\n",
              "      <td>1</td>\n",
              "    </tr>\n",
              "    <tr>\n",
              "      <th>2</th>\n",
              "      <td>96d74cb729</td>\n",
              "      <td>shanghai is also really exciting precisely sky...</td>\n",
              "      <td>2</td>\n",
              "    </tr>\n",
              "    <tr>\n",
              "      <th>3</th>\n",
              "      <td>eee518ae67</td>\n",
              "      <td>recession hit veronique branquinho she has to ...</td>\n",
              "      <td>0</td>\n",
              "    </tr>\n",
              "    <tr>\n",
              "      <th>4</th>\n",
              "      <td>01082688c6</td>\n",
              "      <td>happy bday</td>\n",
              "      <td>2</td>\n",
              "    </tr>\n",
              "    <tr>\n",
              "      <th>5</th>\n",
              "      <td>33987a8ee5</td>\n",
              "      <td>like it</td>\n",
              "      <td>2</td>\n",
              "    </tr>\n",
              "    <tr>\n",
              "      <th>6</th>\n",
              "      <td>726e501993</td>\n",
              "      <td>that great weee visitors</td>\n",
              "      <td>2</td>\n",
              "    </tr>\n",
              "    <tr>\n",
              "      <th>7</th>\n",
              "      <td>261932614e</td>\n",
              "      <td>think everyone hates me on here lol</td>\n",
              "      <td>0</td>\n",
              "    </tr>\n",
              "    <tr>\n",
              "      <th>8</th>\n",
              "      <td>afa11da83f</td>\n",
              "      <td>soooooo wish could but im in school and myspac...</td>\n",
              "      <td>0</td>\n",
              "    </tr>\n",
              "    <tr>\n",
              "      <th>9</th>\n",
              "      <td>e64208b4ef</td>\n",
              "      <td>and within short time of the last clue all of ...</td>\n",
              "      <td>1</td>\n",
              "    </tr>\n",
              "    <tr>\n",
              "      <th>10</th>\n",
              "      <td>37bcad24ca</td>\n",
              "      <td>what did you get my day is alright haven done ...</td>\n",
              "      <td>1</td>\n",
              "    </tr>\n",
              "    <tr>\n",
              "      <th>11</th>\n",
              "      <td>24c92644a4</td>\n",
              "      <td>my bike was put on hold should have known that...</td>\n",
              "      <td>0</td>\n",
              "    </tr>\n",
              "    <tr>\n",
              "      <th>12</th>\n",
              "      <td>43b390b336</td>\n",
              "      <td>checked we didn win</td>\n",
              "      <td>1</td>\n",
              "    </tr>\n",
              "    <tr>\n",
              "      <th>13</th>\n",
              "      <td>69d6b5d93e</td>\n",
              "      <td>and you re on twitter did the tavern bore you ...</td>\n",
              "      <td>1</td>\n",
              "    </tr>\n",
              "    <tr>\n",
              "      <th>14</th>\n",
              "      <td>5c1e0b61a1</td>\n",
              "      <td>in va for the weekend my youngest son turns to...</td>\n",
              "      <td>0</td>\n",
              "    </tr>\n",
              "    <tr>\n",
              "      <th>15</th>\n",
              "      <td>504e45d9d9</td>\n",
              "      <td>its coming out the socket feel like my phones ...</td>\n",
              "      <td>0</td>\n",
              "    </tr>\n",
              "    <tr>\n",
              "      <th>16</th>\n",
              "      <td>ae93ad52a0</td>\n",
              "      <td>so hot today don like it and hate my new timet...</td>\n",
              "      <td>0</td>\n",
              "    </tr>\n",
              "    <tr>\n",
              "      <th>17</th>\n",
              "      <td>9fce30159a</td>\n",
              "      <td>miss you</td>\n",
              "      <td>0</td>\n",
              "    </tr>\n",
              "    <tr>\n",
              "      <th>18</th>\n",
              "      <td>00d5195223</td>\n",
              "      <td>cramps</td>\n",
              "      <td>0</td>\n",
              "    </tr>\n",
              "    <tr>\n",
              "      <th>19</th>\n",
              "      <td>33f19050cf</td>\n",
              "      <td>you guys didn say hi or answer my questions ye...</td>\n",
              "      <td>2</td>\n",
              "    </tr>\n",
              "    <tr>\n",
              "      <th>20</th>\n",
              "      <td>f7718b3c23</td>\n",
              "      <td>going into spiritual stagnentation its explodi...</td>\n",
              "      <td>1</td>\n",
              "    </tr>\n",
              "    <tr>\n",
              "      <th>21</th>\n",
              "      <td>9ef44428d0</td>\n",
              "      <td>stupid storm no river for us tonight</td>\n",
              "      <td>0</td>\n",
              "    </tr>\n",
              "    <tr>\n",
              "      <th>22</th>\n",
              "      <td>be634ebeb0</td>\n",
              "      <td>my dead grandpa pays more attention to me than...</td>\n",
              "      <td>0</td>\n",
              "    </tr>\n",
              "    <tr>\n",
              "      <th>23</th>\n",
              "      <td>3dcf4f7e13</td>\n",
              "      <td>need retail therapy bad ahhh gimme money geebus</td>\n",
              "      <td>0</td>\n",
              "    </tr>\n",
              "    <tr>\n",
              "      <th>24</th>\n",
              "      <td>f0ef04109b</td>\n",
              "      <td>about to go to sleep</td>\n",
              "      <td>1</td>\n",
              "    </tr>\n",
              "    <tr>\n",
              "      <th>25</th>\n",
              "      <td>8be365118e</td>\n",
              "      <td>you are lame go make me breakfast</td>\n",
              "      <td>0</td>\n",
              "    </tr>\n",
              "    <tr>\n",
              "      <th>26</th>\n",
              "      <td>c50bdd4567</td>\n",
              "      <td>thats so cool</td>\n",
              "      <td>2</td>\n",
              "    </tr>\n",
              "    <tr>\n",
              "      <th>27</th>\n",
              "      <td>334954f215</td>\n",
              "      <td>hey peoples dont you just hate being grounded ...</td>\n",
              "      <td>1</td>\n",
              "    </tr>\n",
              "    <tr>\n",
              "      <th>28</th>\n",
              "      <td>b783916431</td>\n",
              "      <td>huh another scarepoint coding sunday</td>\n",
              "      <td>1</td>\n",
              "    </tr>\n",
              "    <tr>\n",
              "      <th>29</th>\n",
              "      <td>1fa8e6ad66</td>\n",
              "      <td>look who found just for you</td>\n",
              "      <td>2</td>\n",
              "    </tr>\n",
              "  </tbody>\n",
              "</table>\n",
              "</div>\n",
              "      <button class=\"colab-df-convert\" onclick=\"convertToInteractive('df-38f2dcfe-5407-4380-9526-7a0b9fb41dd7')\"\n",
              "              title=\"Convert this dataframe to an interactive table.\"\n",
              "              style=\"display:none;\">\n",
              "        \n",
              "  <svg xmlns=\"http://www.w3.org/2000/svg\" height=\"24px\"viewBox=\"0 0 24 24\"\n",
              "       width=\"24px\">\n",
              "    <path d=\"M0 0h24v24H0V0z\" fill=\"none\"/>\n",
              "    <path d=\"M18.56 5.44l.94 2.06.94-2.06 2.06-.94-2.06-.94-.94-2.06-.94 2.06-2.06.94zm-11 1L8.5 8.5l.94-2.06 2.06-.94-2.06-.94L8.5 2.5l-.94 2.06-2.06.94zm10 10l.94 2.06.94-2.06 2.06-.94-2.06-.94-.94-2.06-.94 2.06-2.06.94z\"/><path d=\"M17.41 7.96l-1.37-1.37c-.4-.4-.92-.59-1.43-.59-.52 0-1.04.2-1.43.59L10.3 9.45l-7.72 7.72c-.78.78-.78 2.05 0 2.83L4 21.41c.39.39.9.59 1.41.59.51 0 1.02-.2 1.41-.59l7.78-7.78 2.81-2.81c.8-.78.8-2.07 0-2.86zM5.41 20L4 18.59l7.72-7.72 1.47 1.35L5.41 20z\"/>\n",
              "  </svg>\n",
              "      </button>\n",
              "      \n",
              "  <style>\n",
              "    .colab-df-container {\n",
              "      display:flex;\n",
              "      flex-wrap:wrap;\n",
              "      gap: 12px;\n",
              "    }\n",
              "\n",
              "    .colab-df-convert {\n",
              "      background-color: #E8F0FE;\n",
              "      border: none;\n",
              "      border-radius: 50%;\n",
              "      cursor: pointer;\n",
              "      display: none;\n",
              "      fill: #1967D2;\n",
              "      height: 32px;\n",
              "      padding: 0 0 0 0;\n",
              "      width: 32px;\n",
              "    }\n",
              "\n",
              "    .colab-df-convert:hover {\n",
              "      background-color: #E2EBFA;\n",
              "      box-shadow: 0px 1px 2px rgba(60, 64, 67, 0.3), 0px 1px 3px 1px rgba(60, 64, 67, 0.15);\n",
              "      fill: #174EA6;\n",
              "    }\n",
              "\n",
              "    [theme=dark] .colab-df-convert {\n",
              "      background-color: #3B4455;\n",
              "      fill: #D2E3FC;\n",
              "    }\n",
              "\n",
              "    [theme=dark] .colab-df-convert:hover {\n",
              "      background-color: #434B5C;\n",
              "      box-shadow: 0px 1px 3px 1px rgba(0, 0, 0, 0.15);\n",
              "      filter: drop-shadow(0px 1px 2px rgba(0, 0, 0, 0.3));\n",
              "      fill: #FFFFFF;\n",
              "    }\n",
              "  </style>\n",
              "\n",
              "      <script>\n",
              "        const buttonEl =\n",
              "          document.querySelector('#df-38f2dcfe-5407-4380-9526-7a0b9fb41dd7 button.colab-df-convert');\n",
              "        buttonEl.style.display =\n",
              "          google.colab.kernel.accessAllowed ? 'block' : 'none';\n",
              "\n",
              "        async function convertToInteractive(key) {\n",
              "          const element = document.querySelector('#df-38f2dcfe-5407-4380-9526-7a0b9fb41dd7');\n",
              "          const dataTable =\n",
              "            await google.colab.kernel.invokeFunction('convertToInteractive',\n",
              "                                                     [key], {});\n",
              "          if (!dataTable) return;\n",
              "\n",
              "          const docLinkHtml = 'Like what you see? Visit the ' +\n",
              "            '<a target=\"_blank\" href=https://colab.research.google.com/notebooks/data_table.ipynb>data table notebook</a>'\n",
              "            + ' to learn more about interactive tables.';\n",
              "          element.innerHTML = '';\n",
              "          dataTable['output_type'] = 'display_data';\n",
              "          await google.colab.output.renderOutput(dataTable, element);\n",
              "          const docLink = document.createElement('div');\n",
              "          docLink.innerHTML = docLinkHtml;\n",
              "          element.appendChild(docLink);\n",
              "        }\n",
              "      </script>\n",
              "    </div>\n",
              "  </div>\n",
              "  "
            ]
          },
          "metadata": {},
          "execution_count": 261
        }
      ],
      "source": [
        "df_test.head(30)"
      ]
    },
    {
      "cell_type": "code",
      "execution_count": 262,
      "metadata": {
        "colab": {
          "base_uri": "https://localhost:8080/",
          "height": 424
        },
        "id": "n2PLKynUpIob",
        "outputId": "5a070040-caa2-42e4-f9a2-912f3b59fb87"
      },
      "outputs": [
        {
          "output_type": "execute_result",
          "data": {
            "text/plain": [
              "                                               sentence  sentiment\n",
              "0                                                  text  sentiment\n",
              "1                               last session of the day          1\n",
              "2     shanghai is also really exciting precisely sky...          2\n",
              "3     recession hit veronique branquinho she has to ...          0\n",
              "4                                            happy bday          2\n",
              "...                                                 ...        ...\n",
              "3530   its at am im very tired but can sleep but try it          0\n",
              "3531  all alone in this old house again thanks for t...          2\n",
              "3532  know what you mean my little dog is sinking in...          0\n",
              "3533  sutra what is your next youtube video gonna be...          2\n",
              "3534                             omgssh ang cute ng bby          2\n",
              "\n",
              "[3535 rows x 2 columns]"
            ],
            "text/html": [
              "\n",
              "  <div id=\"df-96131b38-611b-46ed-8e6f-ef6aca7ca243\">\n",
              "    <div class=\"colab-df-container\">\n",
              "      <div>\n",
              "<style scoped>\n",
              "    .dataframe tbody tr th:only-of-type {\n",
              "        vertical-align: middle;\n",
              "    }\n",
              "\n",
              "    .dataframe tbody tr th {\n",
              "        vertical-align: top;\n",
              "    }\n",
              "\n",
              "    .dataframe thead th {\n",
              "        text-align: right;\n",
              "    }\n",
              "</style>\n",
              "<table border=\"1\" class=\"dataframe\">\n",
              "  <thead>\n",
              "    <tr style=\"text-align: right;\">\n",
              "      <th></th>\n",
              "      <th>sentence</th>\n",
              "      <th>sentiment</th>\n",
              "    </tr>\n",
              "  </thead>\n",
              "  <tbody>\n",
              "    <tr>\n",
              "      <th>0</th>\n",
              "      <td>text</td>\n",
              "      <td>sentiment</td>\n",
              "    </tr>\n",
              "    <tr>\n",
              "      <th>1</th>\n",
              "      <td>last session of the day</td>\n",
              "      <td>1</td>\n",
              "    </tr>\n",
              "    <tr>\n",
              "      <th>2</th>\n",
              "      <td>shanghai is also really exciting precisely sky...</td>\n",
              "      <td>2</td>\n",
              "    </tr>\n",
              "    <tr>\n",
              "      <th>3</th>\n",
              "      <td>recession hit veronique branquinho she has to ...</td>\n",
              "      <td>0</td>\n",
              "    </tr>\n",
              "    <tr>\n",
              "      <th>4</th>\n",
              "      <td>happy bday</td>\n",
              "      <td>2</td>\n",
              "    </tr>\n",
              "    <tr>\n",
              "      <th>...</th>\n",
              "      <td>...</td>\n",
              "      <td>...</td>\n",
              "    </tr>\n",
              "    <tr>\n",
              "      <th>3530</th>\n",
              "      <td>its at am im very tired but can sleep but try it</td>\n",
              "      <td>0</td>\n",
              "    </tr>\n",
              "    <tr>\n",
              "      <th>3531</th>\n",
              "      <td>all alone in this old house again thanks for t...</td>\n",
              "      <td>2</td>\n",
              "    </tr>\n",
              "    <tr>\n",
              "      <th>3532</th>\n",
              "      <td>know what you mean my little dog is sinking in...</td>\n",
              "      <td>0</td>\n",
              "    </tr>\n",
              "    <tr>\n",
              "      <th>3533</th>\n",
              "      <td>sutra what is your next youtube video gonna be...</td>\n",
              "      <td>2</td>\n",
              "    </tr>\n",
              "    <tr>\n",
              "      <th>3534</th>\n",
              "      <td>omgssh ang cute ng bby</td>\n",
              "      <td>2</td>\n",
              "    </tr>\n",
              "  </tbody>\n",
              "</table>\n",
              "<p>3535 rows × 2 columns</p>\n",
              "</div>\n",
              "      <button class=\"colab-df-convert\" onclick=\"convertToInteractive('df-96131b38-611b-46ed-8e6f-ef6aca7ca243')\"\n",
              "              title=\"Convert this dataframe to an interactive table.\"\n",
              "              style=\"display:none;\">\n",
              "        \n",
              "  <svg xmlns=\"http://www.w3.org/2000/svg\" height=\"24px\"viewBox=\"0 0 24 24\"\n",
              "       width=\"24px\">\n",
              "    <path d=\"M0 0h24v24H0V0z\" fill=\"none\"/>\n",
              "    <path d=\"M18.56 5.44l.94 2.06.94-2.06 2.06-.94-2.06-.94-.94-2.06-.94 2.06-2.06.94zm-11 1L8.5 8.5l.94-2.06 2.06-.94-2.06-.94L8.5 2.5l-.94 2.06-2.06.94zm10 10l.94 2.06.94-2.06 2.06-.94-2.06-.94-.94-2.06-.94 2.06-2.06.94z\"/><path d=\"M17.41 7.96l-1.37-1.37c-.4-.4-.92-.59-1.43-.59-.52 0-1.04.2-1.43.59L10.3 9.45l-7.72 7.72c-.78.78-.78 2.05 0 2.83L4 21.41c.39.39.9.59 1.41.59.51 0 1.02-.2 1.41-.59l7.78-7.78 2.81-2.81c.8-.78.8-2.07 0-2.86zM5.41 20L4 18.59l7.72-7.72 1.47 1.35L5.41 20z\"/>\n",
              "  </svg>\n",
              "      </button>\n",
              "      \n",
              "  <style>\n",
              "    .colab-df-container {\n",
              "      display:flex;\n",
              "      flex-wrap:wrap;\n",
              "      gap: 12px;\n",
              "    }\n",
              "\n",
              "    .colab-df-convert {\n",
              "      background-color: #E8F0FE;\n",
              "      border: none;\n",
              "      border-radius: 50%;\n",
              "      cursor: pointer;\n",
              "      display: none;\n",
              "      fill: #1967D2;\n",
              "      height: 32px;\n",
              "      padding: 0 0 0 0;\n",
              "      width: 32px;\n",
              "    }\n",
              "\n",
              "    .colab-df-convert:hover {\n",
              "      background-color: #E2EBFA;\n",
              "      box-shadow: 0px 1px 2px rgba(60, 64, 67, 0.3), 0px 1px 3px 1px rgba(60, 64, 67, 0.15);\n",
              "      fill: #174EA6;\n",
              "    }\n",
              "\n",
              "    [theme=dark] .colab-df-convert {\n",
              "      background-color: #3B4455;\n",
              "      fill: #D2E3FC;\n",
              "    }\n",
              "\n",
              "    [theme=dark] .colab-df-convert:hover {\n",
              "      background-color: #434B5C;\n",
              "      box-shadow: 0px 1px 3px 1px rgba(0, 0, 0, 0.15);\n",
              "      filter: drop-shadow(0px 1px 2px rgba(0, 0, 0, 0.3));\n",
              "      fill: #FFFFFF;\n",
              "    }\n",
              "  </style>\n",
              "\n",
              "      <script>\n",
              "        const buttonEl =\n",
              "          document.querySelector('#df-96131b38-611b-46ed-8e6f-ef6aca7ca243 button.colab-df-convert');\n",
              "        buttonEl.style.display =\n",
              "          google.colab.kernel.accessAllowed ? 'block' : 'none';\n",
              "\n",
              "        async function convertToInteractive(key) {\n",
              "          const element = document.querySelector('#df-96131b38-611b-46ed-8e6f-ef6aca7ca243');\n",
              "          const dataTable =\n",
              "            await google.colab.kernel.invokeFunction('convertToInteractive',\n",
              "                                                     [key], {});\n",
              "          if (!dataTable) return;\n",
              "\n",
              "          const docLinkHtml = 'Like what you see? Visit the ' +\n",
              "            '<a target=\"_blank\" href=https://colab.research.google.com/notebooks/data_table.ipynb>data table notebook</a>'\n",
              "            + ' to learn more about interactive tables.';\n",
              "          element.innerHTML = '';\n",
              "          dataTable['output_type'] = 'display_data';\n",
              "          await google.colab.output.renderOutput(dataTable, element);\n",
              "          const docLink = document.createElement('div');\n",
              "          docLink.innerHTML = docLinkHtml;\n",
              "          element.appendChild(docLink);\n",
              "        }\n",
              "      </script>\n",
              "    </div>\n",
              "  </div>\n",
              "  "
            ]
          },
          "metadata": {},
          "execution_count": 262
        }
      ],
      "source": [
        "data=df_train[['sentence','sentiment']].copy()\n",
        "data_test=df_test[['sentence','sentiment']].copy()\n",
        "data_test"
      ]
    },
    {
      "cell_type": "code",
      "execution_count": 263,
      "metadata": {
        "id": "1JMpDuRqptae"
      },
      "outputs": [],
      "source": [
        "# data['selected_sentence'] = data['selected_sentence'].str.lower()\n",
        "# data_test['sentence'] = data_test['sentence'].str.lower()"
      ]
    },
    {
      "cell_type": "code",
      "execution_count": 264,
      "metadata": {
        "colab": {
          "base_uri": "https://localhost:8080/"
        },
        "id": "wIQmkEOHpoVO",
        "outputId": "2c18bca7-dee5-4913-f0d5-705c76bb776f"
      },
      "outputs": [
        {
          "output_type": "execute_result",
          "data": {
            "text/plain": [
              "(27482, 2)"
            ]
          },
          "metadata": {},
          "execution_count": 264
        }
      ],
      "source": [
        "data.shape "
      ]
    },
    {
      "cell_type": "code",
      "execution_count": 265,
      "metadata": {
        "id": "cI1NJOZyq5HV"
      },
      "outputs": [],
      "source": [
        "# stopwordlist = ['a', 'about', 'above', 'after', 'again', 'ain', 'all', 'am', 'an',\n",
        "#              'and','any','are', 'as', 'at', 'be', 'because', 'been', 'before',\n",
        "#              'being', 'below', 'between','both', 'by', 'can', 'd', 'did', 'do',\n",
        "#              'does', 'doing', 'down', 'during', 'each','few', 'for', 'from',\n",
        "#              'further', 'had', 'has', 'have', 'having', 'he', 'her', 'here',\n",
        "#              'hers', 'herself', 'him', 'himself', 'his', 'how', 'i', 'if', 'in',\n",
        "#              'into','is', 'it', 'its', 'itself', 'just', 'll', 'm', 'ma',\n",
        "#              'me', 'more', 'most','my', 'myself', 'now', 'o', 'of', 'on', 'once',\n",
        "#              'only', 'or', 'other', 'our', 'ours','ourselves', 'out', 'own', 're','s', 'same', 'she', \"shes\", 'should', \"shouldve\",'so', 'some', 'such',\n",
        "#              't', 'than', 'that', \"thatll\", 'the', 'their', 'theirs', 'them',\n",
        "#              'themselves', 'then', 'there', 'these', 'they', 'this', 'those',\n",
        "#              'through', 'to', 'too','under', 'until', 'up', 've', 'very', 'was',\n",
        "#              'we', 'were', 'what', 'when', 'where','which','while', 'who', 'whom',\n",
        "#              'why', 'will', 'with', 'won', 'y', 'you', \"youd\",\"youll\", \"youre\",\n",
        "#              \"youve\", 'your', 'yours', 'yourself', 'yourselves']"
      ]
    },
    {
      "cell_type": "code",
      "execution_count": 266,
      "metadata": {
        "id": "W07l7zTYq6oK"
      },
      "outputs": [],
      "source": [
        "# STOPWORDS = set(stopwordlist)\n",
        "# def cleaning_stopwords(text):\n",
        "#     return \" \".join([word for word in str(text).split() if word not in STOPWORDS])\n",
        "# data['selected_sentence'] = data['selected_sentence'].apply(lambda text: cleaning_stopwords(text))\n",
        "# data_test['sentence'] = data_test['sentence'].apply(lambda text: cleaning_stopwords(text))"
      ]
    },
    {
      "cell_type": "code",
      "execution_count": 267,
      "metadata": {
        "id": "ASvByKQLrvtT"
      },
      "outputs": [],
      "source": [
        "# import re\n",
        "# def cleaning_numbers(data):\n",
        "#     return re.sub('[0-9]+', '', data)\n",
        "\n",
        "\n",
        "# def cleaning_repeating_char(text):\n",
        "#     return re.sub(r'(.)1+', r'1', text)       #advanced substitude\n",
        "\n",
        "# def cleaning_URLs(data):\n",
        "#     return re.sub('((www.[^s]+)|(https?://[^s]+))',' ',data)"
      ]
    },
    {
      "cell_type": "code",
      "execution_count": 268,
      "metadata": {
        "id": "5EYFx3lQryYv"
      },
      "outputs": [],
      "source": [
        "# import string\n",
        "\n",
        "# english_punctuations = string.punctuation\n",
        "# punctuations_list = english_punctuations\n",
        "# def cleaning_punctuations(text):\n",
        "#     translator = str.maketrans('', '', punctuations_list)\n",
        "#     return text.translate(translator)\n",
        "\n",
        "# data['selected_sentence']= data['selected_sentence'].apply(lambda x: cleaning_punctuations(x))\n",
        "# data['selected_sentence'] = data['selected_sentence'].apply(lambda x: cleaning_repeating_char(x))\n",
        "# data['selected_sentence'] = data['selected_sentence'].apply(lambda x: cleaning_numbers(x))\n",
        "# data['selected_sentence'] = data['selected_sentence'].apply(lambda x: cleaning_URLs(x))\n",
        "\n",
        "# data_test['sentence'] = data_test['sentence'].apply(lambda x: cleaning_punctuations(x))\n",
        "# data_test['sentence'] = data_test['sentence'].apply(lambda x: cleaning_repeating_char(x))\n",
        "# data_test['sentence'] = data_test['sentence'].apply(lambda x: cleaning_numbers(x))\n",
        "# data_test['sentence'] = data_test['sentence'].apply(lambda x: cleaning_URLs(x))"
      ]
    },
    {
      "cell_type": "code",
      "execution_count": 269,
      "metadata": {
        "id": "pqBPeQXGrv5N"
      },
      "outputs": [],
      "source": [
        "data= data[:5000]"
      ]
    },
    {
      "cell_type": "code",
      "execution_count": 270,
      "metadata": {
        "id": "DBOMxT7jp92P"
      },
      "outputs": [],
      "source": [
        "N_train = df_train.shape[0]\n",
        "data = data.loc[1:N_train-1,:]\n",
        "data_test = data_test.loc[1:3533,:]"
      ]
    },
    {
      "cell_type": "code",
      "execution_count": 271,
      "metadata": {
        "colab": {
          "base_uri": "https://localhost:8080/"
        },
        "id": "BqQqiGKfAD3K",
        "outputId": "68927a08-513f-42bd-a73e-e8e1397fdcb4"
      },
      "outputs": [
        {
          "output_type": "execute_result",
          "data": {
            "text/plain": [
              "(4999, 2)"
            ]
          },
          "metadata": {},
          "execution_count": 271
        }
      ],
      "source": [
        "type(data)\n",
        "data.shape"
      ]
    },
    {
      "cell_type": "code",
      "execution_count": 272,
      "metadata": {
        "colab": {
          "base_uri": "https://localhost:8080/",
          "height": 206
        },
        "id": "hp4dCP9ZAKGe",
        "outputId": "b2bdc24c-a162-4d31-a64c-ba0ef7dcdcbc"
      },
      "outputs": [
        {
          "output_type": "execute_result",
          "data": {
            "text/plain": [
              "                                            sentence sentiment\n",
              "1                       have responded if were going         1\n",
              "2           sooo sad will miss you here in san diego         0\n",
              "3                             my boss is bullying me         0\n",
              "4                      what interview leave me alone         0\n",
              "5  sons of why couldn they put them on the releas...         0"
            ],
            "text/html": [
              "\n",
              "  <div id=\"df-9ca35f29-5c4c-4098-895c-2d01a67513a0\">\n",
              "    <div class=\"colab-df-container\">\n",
              "      <div>\n",
              "<style scoped>\n",
              "    .dataframe tbody tr th:only-of-type {\n",
              "        vertical-align: middle;\n",
              "    }\n",
              "\n",
              "    .dataframe tbody tr th {\n",
              "        vertical-align: top;\n",
              "    }\n",
              "\n",
              "    .dataframe thead th {\n",
              "        text-align: right;\n",
              "    }\n",
              "</style>\n",
              "<table border=\"1\" class=\"dataframe\">\n",
              "  <thead>\n",
              "    <tr style=\"text-align: right;\">\n",
              "      <th></th>\n",
              "      <th>sentence</th>\n",
              "      <th>sentiment</th>\n",
              "    </tr>\n",
              "  </thead>\n",
              "  <tbody>\n",
              "    <tr>\n",
              "      <th>1</th>\n",
              "      <td>have responded if were going</td>\n",
              "      <td>1</td>\n",
              "    </tr>\n",
              "    <tr>\n",
              "      <th>2</th>\n",
              "      <td>sooo sad will miss you here in san diego</td>\n",
              "      <td>0</td>\n",
              "    </tr>\n",
              "    <tr>\n",
              "      <th>3</th>\n",
              "      <td>my boss is bullying me</td>\n",
              "      <td>0</td>\n",
              "    </tr>\n",
              "    <tr>\n",
              "      <th>4</th>\n",
              "      <td>what interview leave me alone</td>\n",
              "      <td>0</td>\n",
              "    </tr>\n",
              "    <tr>\n",
              "      <th>5</th>\n",
              "      <td>sons of why couldn they put them on the releas...</td>\n",
              "      <td>0</td>\n",
              "    </tr>\n",
              "  </tbody>\n",
              "</table>\n",
              "</div>\n",
              "      <button class=\"colab-df-convert\" onclick=\"convertToInteractive('df-9ca35f29-5c4c-4098-895c-2d01a67513a0')\"\n",
              "              title=\"Convert this dataframe to an interactive table.\"\n",
              "              style=\"display:none;\">\n",
              "        \n",
              "  <svg xmlns=\"http://www.w3.org/2000/svg\" height=\"24px\"viewBox=\"0 0 24 24\"\n",
              "       width=\"24px\">\n",
              "    <path d=\"M0 0h24v24H0V0z\" fill=\"none\"/>\n",
              "    <path d=\"M18.56 5.44l.94 2.06.94-2.06 2.06-.94-2.06-.94-.94-2.06-.94 2.06-2.06.94zm-11 1L8.5 8.5l.94-2.06 2.06-.94-2.06-.94L8.5 2.5l-.94 2.06-2.06.94zm10 10l.94 2.06.94-2.06 2.06-.94-2.06-.94-.94-2.06-.94 2.06-2.06.94z\"/><path d=\"M17.41 7.96l-1.37-1.37c-.4-.4-.92-.59-1.43-.59-.52 0-1.04.2-1.43.59L10.3 9.45l-7.72 7.72c-.78.78-.78 2.05 0 2.83L4 21.41c.39.39.9.59 1.41.59.51 0 1.02-.2 1.41-.59l7.78-7.78 2.81-2.81c.8-.78.8-2.07 0-2.86zM5.41 20L4 18.59l7.72-7.72 1.47 1.35L5.41 20z\"/>\n",
              "  </svg>\n",
              "      </button>\n",
              "      \n",
              "  <style>\n",
              "    .colab-df-container {\n",
              "      display:flex;\n",
              "      flex-wrap:wrap;\n",
              "      gap: 12px;\n",
              "    }\n",
              "\n",
              "    .colab-df-convert {\n",
              "      background-color: #E8F0FE;\n",
              "      border: none;\n",
              "      border-radius: 50%;\n",
              "      cursor: pointer;\n",
              "      display: none;\n",
              "      fill: #1967D2;\n",
              "      height: 32px;\n",
              "      padding: 0 0 0 0;\n",
              "      width: 32px;\n",
              "    }\n",
              "\n",
              "    .colab-df-convert:hover {\n",
              "      background-color: #E2EBFA;\n",
              "      box-shadow: 0px 1px 2px rgba(60, 64, 67, 0.3), 0px 1px 3px 1px rgba(60, 64, 67, 0.15);\n",
              "      fill: #174EA6;\n",
              "    }\n",
              "\n",
              "    [theme=dark] .colab-df-convert {\n",
              "      background-color: #3B4455;\n",
              "      fill: #D2E3FC;\n",
              "    }\n",
              "\n",
              "    [theme=dark] .colab-df-convert:hover {\n",
              "      background-color: #434B5C;\n",
              "      box-shadow: 0px 1px 3px 1px rgba(0, 0, 0, 0.15);\n",
              "      filter: drop-shadow(0px 1px 2px rgba(0, 0, 0, 0.3));\n",
              "      fill: #FFFFFF;\n",
              "    }\n",
              "  </style>\n",
              "\n",
              "      <script>\n",
              "        const buttonEl =\n",
              "          document.querySelector('#df-9ca35f29-5c4c-4098-895c-2d01a67513a0 button.colab-df-convert');\n",
              "        buttonEl.style.display =\n",
              "          google.colab.kernel.accessAllowed ? 'block' : 'none';\n",
              "\n",
              "        async function convertToInteractive(key) {\n",
              "          const element = document.querySelector('#df-9ca35f29-5c4c-4098-895c-2d01a67513a0');\n",
              "          const dataTable =\n",
              "            await google.colab.kernel.invokeFunction('convertToInteractive',\n",
              "                                                     [key], {});\n",
              "          if (!dataTable) return;\n",
              "\n",
              "          const docLinkHtml = 'Like what you see? Visit the ' +\n",
              "            '<a target=\"_blank\" href=https://colab.research.google.com/notebooks/data_table.ipynb>data table notebook</a>'\n",
              "            + ' to learn more about interactive tables.';\n",
              "          element.innerHTML = '';\n",
              "          dataTable['output_type'] = 'display_data';\n",
              "          await google.colab.output.renderOutput(dataTable, element);\n",
              "          const docLink = document.createElement('div');\n",
              "          docLink.innerHTML = docLinkHtml;\n",
              "          element.appendChild(docLink);\n",
              "        }\n",
              "      </script>\n",
              "    </div>\n",
              "  </div>\n",
              "  "
            ]
          },
          "metadata": {},
          "execution_count": 272
        }
      ],
      "source": [
        "data.head()"
      ]
    },
    {
      "cell_type": "code",
      "execution_count": 273,
      "metadata": {
        "colab": {
          "base_uri": "https://localhost:8080/"
        },
        "id": "Xs7oxFen94uQ",
        "outputId": "3d511d1d-800f-4b6d-a642-f48feea3b8d6"
      },
      "outputs": [
        {
          "output_type": "execute_result",
          "data": {
            "text/plain": [
              "1    2022\n",
              "2    1592\n",
              "0    1385\n",
              "Name: sentiment, dtype: int64"
            ]
          },
          "metadata": {},
          "execution_count": 273
        }
      ],
      "source": [
        "data.sentiment.value_counts()"
      ]
    },
    {
      "cell_type": "code",
      "execution_count": 274,
      "metadata": {
        "id": "BufRawwT-M91"
      },
      "outputs": [],
      "source": [
        "# Create sentence and label lists\n",
        "sentences = data.sentence.values\n",
        "\n",
        "sentences = sentences[1:]\n",
        "# We need to add special tokens at the beginning and end of each sentence for BERT to work properly\n",
        "sentences = [\"[CLS] \" + str(sentence) + \" [SEP]\" for sentence in sentences]\n",
        "labels = data.sentiment.values\n",
        "# labels = [int(float(label)) for label in labels]\n",
        "# labels2 = []\n",
        "# for ele in labels: \n",
        "#   labels2.append(int(ele))\n",
        "\n",
        "labels =  labels[1:]\n",
        "labels = labels.astype(np.int_)"
      ]
    },
    {
      "cell_type": "code",
      "execution_count": 275,
      "metadata": {
        "id": "6M0GVrMApGJp"
      },
      "outputs": [],
      "source": [
        "# Create sentence and label lists\n",
        "sentences_test = data_test.sentence.values\n",
        "\n",
        "sentences_test = sentences_test[1:]\n",
        "# We need to add special tokens at the beginning and end of each sentence for BERT to work properly\n",
        "sentences_test = [\"[CLS] \" + str(sentence) + \" [SEP]\" for sentence in sentences_test]\n",
        "labels_test = data_test.sentiment.values\n",
        "# labels = [int(float(label)) for label in labels]\n",
        "# labels2 = []\n",
        "# for ele in labels: \n",
        "#   labels2.append(int(ele))\n",
        "\n",
        "labels_test =  labels_test[1:]\n",
        "labels_test = labels_test.astype(np.int_)\n",
        "labels_test = labels_test[:3532]"
      ]
    },
    {
      "cell_type": "code",
      "execution_count": 276,
      "metadata": {
        "colab": {
          "base_uri": "https://localhost:8080/"
        },
        "id": "kTefajW4-VjM",
        "outputId": "be95757b-b79a-44df-a3b9-11ebb485c72f"
      },
      "outputs": [
        {
          "output_type": "execute_result",
          "data": {
            "text/plain": [
              "(3532,)"
            ]
          },
          "metadata": {},
          "execution_count": 276
        }
      ],
      "source": [
        "# data_test.sentiment.shape\n",
        "labels_test.shape"
      ]
    },
    {
      "cell_type": "code",
      "execution_count": 277,
      "metadata": {
        "colab": {
          "base_uri": "https://localhost:8080/"
        },
        "id": "L-ioz6s_2zsj",
        "outputId": "2772660a-b3b9-4fba-c446-21b42bacfdec"
      },
      "outputs": [
        {
          "output_type": "stream",
          "name": "stdout",
          "text": [
            "Mounted at /content/drive\n"
          ]
        }
      ],
      "source": [
        "from google.colab import drive\n",
        "drive.mount('/content/drive')"
      ]
    },
    {
      "cell_type": "code",
      "execution_count": 278,
      "metadata": {
        "colab": {
          "base_uri": "https://localhost:8080/"
        },
        "id": "ajsTKNGh3Abz",
        "outputId": "50f719fa-3883-460a-d25f-2187fb3b9310"
      },
      "outputs": [
        {
          "output_type": "stream",
          "name": "stdout",
          "text": [
            "Tokenize the first sentence:\n",
            "['[CLS]', 'my', 'boss', 'is', 'bullying', 'me', '[SEP]']\n",
            "Tokenize the first sentence:\n",
            "['[CLS]', 'recession', 'hit', 've', '##ron', '##ique', 'bran', '##quin', '##ho', 'she', 'has', 'to', 'quit', 'her', 'company', 'such', 'shame', '[SEP]']\n"
          ]
        }
      ],
      "source": [
        "\n",
        "#Import the BERT tokenizer, used to convert our text into tokens that correspond to BERT's vocabulary.\n",
        "tokenizer = BertTokenizer.from_pretrained('bert-base-uncased', do_lower_case=True)\n",
        "\n",
        "tokenized_texts = [tokenizer.tokenize(sent) for sent in sentences]\n",
        "print (\"Tokenize the first sentence:\")\n",
        "print (tokenized_texts[1])\n",
        "tokenized_texts_test = [tokenizer.tokenize(sent) for sent in sentences_test]\n",
        "print (\"Tokenize the first sentence:\")\n",
        "print (tokenized_texts_test[1])\n",
        "\n"
      ]
    },
    {
      "cell_type": "code",
      "execution_count": 279,
      "metadata": {
        "colab": {
          "base_uri": "https://localhost:8080/"
        },
        "id": "BLrR7kPP3Q5L",
        "outputId": "7c1d93f4-f2d4-4836-9aa5-874dd6ac4e21"
      },
      "outputs": [
        {
          "output_type": "stream",
          "name": "stdout",
          "text": [
            "['[CLS]', 'shanghai', 'is', 'also', 'really', 'exciting', 'precisely', 'skyscraper', '##s', 'gal', '##ore', 'good', 't', '##wee', '##ps', 'in', 'china', 'sh', 'b', '##j', '[SEP]']\n",
            "['[CLS]', 'recession', 'hit', 've', '##ron', '##ique', 'bran', '##quin', '##ho', 'she', 'has', 'to', 'quit', 'her', 'company', 'such', 'shame', '[SEP]']\n",
            "['[CLS]', 'happy', 'b', '##day', '[SEP]']\n",
            "['[CLS]', 'like', 'it', '[SEP]']\n",
            "['[CLS]', 'that', 'great', 'wee', '##e', 'visitors', '[SEP]']\n",
            "['[CLS]', 'think', 'everyone', 'hates', 'me', 'on', 'here', 'lo', '##l', '[SEP]']\n",
            "['[CLS]', 'soo', '##oo', '##oo', 'wish', 'could', 'but', 'im', 'in', 'school', 'and', 'myspace', 'is', 'completely', 'blocked', '[SEP]']\n",
            "['[CLS]', 'and', 'within', 'short', 'time', 'of', 'the', 'last', 'clue', 'all', 'of', 'them', '[SEP]']\n",
            "['[CLS]', 'what', 'did', 'you', 'get', 'my', 'day', 'is', 'alright', 'haven', 'done', 'anything', 'yet', 'leaving', 'soon', 'to', 'my', 'steps', '##ister', 'though', '[SEP]']\n",
            "['[CLS]', 'my', 'bike', 'was', 'put', 'on', 'hold', 'should', 'have', 'known', 'that', 'ar', '##gh', 'total', 'bum', '##mer', '[SEP]']\n"
          ]
        }
      ],
      "source": [
        "for  i in range(10): \n",
        "  print (tokenized_texts_test[i])"
      ]
    },
    {
      "cell_type": "code",
      "execution_count": 280,
      "metadata": {
        "id": "DgyymWhT3ZCC"
      },
      "outputs": [],
      "source": [
        "# Set the maximum sequence length. The longest sequence in our training set is 47, but we'll leave room on the end anyway. \n",
        "# In the original paper, the authors used a length of 512.\n",
        "MAX_LEN = 128\n"
      ]
    },
    {
      "cell_type": "code",
      "execution_count": 281,
      "metadata": {
        "id": "xQ7n5PpiESMi"
      },
      "outputs": [],
      "source": [
        "# Use the BERT tokenizer to convert the tokens to their index numbers in the BERT vocabulary\n",
        "input_ids = [tokenizer.convert_tokens_to_ids(x) for x in tokenized_texts]\n",
        "input_ids_test = [tokenizer.convert_tokens_to_ids(x) for x in tokenized_texts_test]"
      ]
    },
    {
      "cell_type": "code",
      "execution_count": 282,
      "metadata": {
        "id": "nASh7VAFFf-_"
      },
      "outputs": [],
      "source": [
        "# Pad our input tokens\n",
        "input_ids = pad_sequences(input_ids, maxlen=MAX_LEN, dtype=\"long\", truncating=\"post\", padding=\"post\")\n",
        "input_ids_test = pad_sequences(input_ids_test, maxlen=MAX_LEN, dtype=\"long\", truncating=\"post\", padding=\"post\")"
      ]
    },
    {
      "cell_type": "code",
      "execution_count": 283,
      "metadata": {
        "colab": {
          "base_uri": "https://localhost:8080/"
        },
        "id": "CCp8CTrf2FvJ",
        "outputId": "7787b8c3-a4e7-4ca2-f6b5-b1ede3e2438e"
      },
      "outputs": [
        {
          "output_type": "execute_result",
          "data": {
            "text/plain": [
              "array([[  101, 17111,  2080, ...,     0,     0,     0],\n",
              "       [  101,  2026,  5795, ...,     0,     0,     0],\n",
              "       [  101,  2054,  4357, ...,     0,     0,     0],\n",
              "       ...,\n",
              "       [  101,  4283, 15263, ...,     0,     0,     0],\n",
              "       [  101,  2085,  2008, ...,     0,     0,     0],\n",
              "       [  101,  2053,  2180, ...,     0,     0,     0]])"
            ]
          },
          "metadata": {},
          "execution_count": 283
        }
      ],
      "source": [
        "input_ids"
      ]
    },
    {
      "cell_type": "code",
      "execution_count": 284,
      "metadata": {
        "colab": {
          "base_uri": "https://localhost:8080/"
        },
        "id": "uMBxnruLuvv0",
        "outputId": "7006385d-b465-4d12-cff7-fc108f26472d"
      },
      "outputs": [
        {
          "output_type": "execute_result",
          "data": {
            "text/plain": [
              "array([[  101,  8344,  2003, ...,     0,     0,     0],\n",
              "       [  101, 19396,  2718, ...,     0,     0,     0],\n",
              "       [  101,  3407,  1038, ...,     0,     0,     0],\n",
              "       ...,\n",
              "       [  101,  2035,  2894, ...,     0,     0,     0],\n",
              "       [  101,  2113,  2054, ...,     0,     0,     0],\n",
              "       [  101, 26567,  2054, ...,     0,     0,     0]])"
            ]
          },
          "metadata": {},
          "execution_count": 284
        }
      ],
      "source": [
        "input_ids_test"
      ]
    },
    {
      "cell_type": "code",
      "execution_count": 285,
      "metadata": {
        "id": "y5UzsxKwGtJv"
      },
      "outputs": [],
      "source": [
        "# Create attention masks\n",
        "attention_masks_train = []\n",
        "\n",
        "# Create a mask of 1s for each token followed by 0s for padding\n",
        "for seq in input_ids:\n",
        "  seq_mask = [float(i>0) for i in seq]\n",
        "  attention_masks_train.append(seq_mask)\n",
        "\n",
        "\n",
        "attention_masks_test = []\n",
        "\n",
        "# Create a mask of 1s for each token followed by 0s for padding\n",
        "for seq in input_ids_test:\n",
        "  seq_mask = [float(i>0) for i in seq]\n",
        "  attention_masks_test.append(seq_mask)"
      ]
    },
    {
      "cell_type": "code",
      "execution_count": 285,
      "metadata": {
        "id": "hAL7GZ13u3FG"
      },
      "outputs": [],
      "source": [
        ""
      ]
    },
    {
      "cell_type": "code",
      "execution_count": 286,
      "metadata": {
        "colab": {
          "base_uri": "https://localhost:8080/"
        },
        "id": "Zh2p80aF1w72",
        "outputId": "978af9b2-fe75-4c9b-af19-ca363b839280"
      },
      "outputs": [
        {
          "output_type": "stream",
          "name": "stdout",
          "text": [
            "3532\n"
          ]
        },
        {
          "output_type": "execute_result",
          "data": {
            "text/plain": [
              "(3532, 128)"
            ]
          },
          "metadata": {},
          "execution_count": 286
        }
      ],
      "source": [
        "print(len(attention_masks_test))\n",
        "input_ids_test.shape"
      ]
    },
    {
      "cell_type": "code",
      "execution_count": 287,
      "metadata": {
        "id": "WaAaaCuCG8dG"
      },
      "outputs": [],
      "source": [
        "\n",
        "\n",
        "# Use train_test_split to split our data into train and validation sets for training\n",
        "\n",
        "# train_inputs, validation_inputs, train_labels, validation_labels = train_test_split(input_ids, labels, \n",
        "#                                                             random_state=2022, test_size=0.1)\n",
        "# train_masks, validation_masks, _, _ = train_test_split(attention_masks, input_ids,\n",
        "#                                              random_state=2022, test_size=0.1)\n",
        "\n"
      ]
    },
    {
      "cell_type": "code",
      "execution_count": 288,
      "metadata": {
        "colab": {
          "base_uri": "https://localhost:8080/"
        },
        "id": "v2II0g7WG-hZ",
        "outputId": "a11cedd4-1788-4fcf-ed93-09720163e52d"
      },
      "outputs": [
        {
          "output_type": "stream",
          "name": "stderr",
          "text": [
            "/usr/local/lib/python3.7/dist-packages/ipykernel_launcher.py:13: UserWarning: To copy construct from a tensor, it is recommended to use sourceTensor.clone().detach() or sourceTensor.clone().detach().requires_grad_(True), rather than torch.tensor(sourceTensor).\n",
            "  del sys.path[0]\n",
            "/usr/local/lib/python3.7/dist-packages/ipykernel_launcher.py:16: UserWarning: To copy construct from a tensor, it is recommended to use sourceTensor.clone().detach() or sourceTensor.clone().detach().requires_grad_(True), rather than torch.tensor(sourceTensor).\n",
            "  app.launch_new_instance()\n"
          ]
        }
      ],
      "source": [
        "# Convert all of our data into torch tensors, the required datatype for our model\n",
        "# train_labels = torch.from_numpy(train_labels)\n",
        "# train_inputs = torch.tensor(train_inputs)\n",
        "# validation_inputs = torch.tensor(validation_inputs)\n",
        "# train_labels = torch.tensor(train_labels)\n",
        "# validation_labels = torch.tensor(validation_labels)\n",
        "# train_masks = torch.tensor(train_masks)\n",
        "# validation_masks = torch.tensor(validation_masks)\n",
        "\n",
        "\n",
        "train_labels = torch.from_numpy(labels)\n",
        "train_inputs = torch.tensor(input_ids)\n",
        "train_labels = torch.tensor(train_labels)\n",
        "\n",
        "validation_labels = torch.from_numpy(labels_test)\n",
        "validation_labels = torch.tensor(validation_labels)\n",
        "validation_inputs = torch.tensor(input_ids_test)\n",
        "\n",
        "train_masks = torch.tensor(attention_masks_train)\n",
        "validation_masks = torch.tensor(attention_masks_test)"
      ]
    },
    {
      "cell_type": "code",
      "execution_count": 289,
      "metadata": {
        "colab": {
          "base_uri": "https://localhost:8080/"
        },
        "id": "JYalGoEXCoQf",
        "outputId": "c41df8c5-dc71-4913-83ec-2c89376bcfdc"
      },
      "outputs": [
        {
          "output_type": "stream",
          "name": "stdout",
          "text": [
            "torch.Size([3532, 128]) torch.Size([3532, 128]) torch.Size([3532])\n"
          ]
        }
      ],
      "source": [
        "print(validation_inputs.shape, validation_masks.shape, validation_labels.shape)"
      ]
    },
    {
      "cell_type": "code",
      "execution_count": 290,
      "metadata": {
        "id": "h7KgUDNnfIIW"
      },
      "outputs": [],
      "source": [
        "# Select a batch size for training. For fine-tuning BERT on a specific task, the authors recommend a batch size of 16 or 32\n",
        "batch_size = 32\n",
        "# Create an iterator of our data with torch DataLoader. This helps save on memory during training because, unlike a for loop, \n",
        "# with an iterator the entire dataset does not need to be loaded into memory\n",
        "\n",
        "train_data = TensorDataset(train_inputs, train_masks, train_labels)\n",
        "train_sampler = RandomSampler(train_data)\n",
        "train_dataloader = DataLoader(train_data, sampler=train_sampler, batch_size=batch_size)\n",
        "\n",
        "validation_data = TensorDataset(validation_inputs, validation_masks, validation_labels)\n",
        "validation_sampler = SequentialSampler(validation_data)\n",
        "validation_dataloader = DataLoader(validation_data, sampler=validation_sampler, batch_size=batch_size)"
      ]
    },
    {
      "cell_type": "code",
      "execution_count": 291,
      "metadata": {
        "id": "-J89Qs79kFJ7"
      },
      "outputs": [],
      "source": [
        "# Load BertForSequenceClassification, the pretrained BERT model with a single linear classification layer on top. \n",
        "\n",
        "model = BertForSequenceClassification.from_pretrained(\"bert-base-uncased\", num_labels=3)"
      ]
    },
    {
      "cell_type": "code",
      "execution_count": 292,
      "metadata": {
        "id": "UBUWvhepkMdv"
      },
      "outputs": [],
      "source": [
        "\n",
        "\n",
        "param_optimizer = list(model.named_parameters())\n",
        "no_decay = ['bias', 'gamma', 'beta']\n",
        "optimizer_grouped_parameters = [{'params': [p for n, p in param_optimizer if not any(nd in n for nd in no_decay)],'weight_decay_rate': 0.01},\n",
        "                                {'params': [p for n, p in param_optimizer if any(nd in n for nd in no_decay)],'weight_decay_rate': 0.0}]\n",
        "\n"
      ]
    },
    {
      "cell_type": "code",
      "execution_count": 293,
      "metadata": {
        "colab": {
          "base_uri": "https://localhost:8080/"
        },
        "id": "5-gZRJnTkPXS",
        "outputId": "aa2fd5bf-d6af-4e48-af1d-36df75c7cc47"
      },
      "outputs": [
        {
          "output_type": "stream",
          "name": "stderr",
          "text": [
            "t_total value of -1 results in schedule not being applied\n"
          ]
        }
      ],
      "source": [
        "\n",
        "\n",
        "# This variable contains all of the hyperparemeter information our training loop needs\n",
        "optimizer = BertAdam(optimizer_grouped_parameters,lr=8e-6,warmup=.1)\n",
        "\n"
      ]
    },
    {
      "cell_type": "code",
      "execution_count": 294,
      "metadata": {
        "id": "KsXTmvC3kU18"
      },
      "outputs": [],
      "source": [
        "\n",
        "\n",
        "# Function to calculate the accuracy of our predictions vs labels\n",
        "def flat_accuracy(preds, labels):\n",
        "    pred_flat = np.argmax(preds, axis=1).flatten()\n",
        "    labels_flat = labels.flatten()\n",
        "    return np.sum(pred_flat == labels_flat) / len(labels_flat), pred_flat\n",
        "\n"
      ]
    },
    {
      "cell_type": "code",
      "execution_count": 295,
      "metadata": {
        "id": "tfkjHJZ5DD2G"
      },
      "outputs": [],
      "source": [
        "import numpy as np\n",
        "from sklearn.metrics import f1_score\n",
        "\n",
        "def f1_score_func(preds, labels):\n",
        "    preds_flat = np.argmax(preds, axis = 1).flatten()\n",
        "    labels_flat = labels.flatten()\n",
        "    return f1_score(labels_flat, preds_flat, average = 'weighted')\n",
        "#accuracy score\n",
        "def accuracy_per_class(preds, labels):\n",
        "    label_dict_inverse = {v: k for k, v in label_dict.items()}\n",
        "    \n",
        "    #make prediction\n",
        "    preds_flat = np.argmax(preds, axis=1).flatten()\n",
        "    labels_flat = labels.flatten()\n",
        "    \n",
        "    for label in np.unique(labels_flat):\n",
        "        y_preds = preds_flat[labels_flat==label]\n",
        "        y_true = labels_flat[labels_flat==label]\n",
        "        print(f'Class: {label_dict_inverse[label]}')\n",
        "        num = len(y_preds[y_preds==label])/len(y_true)\n",
        "        print(f'Accuracy:{len(y_preds[y_preds==label])}/{len(y_true)}')\n",
        "        print(num,'\\n')"
      ]
    },
    {
      "cell_type": "code",
      "execution_count": 296,
      "metadata": {
        "colab": {
          "base_uri": "https://localhost:8080/"
        },
        "id": "_ik4J7WmkYfA",
        "outputId": "f5673937-9e33-4066-b86a-e0fe87afff4e"
      },
      "outputs": [
        {
          "output_type": "stream",
          "name": "stderr",
          "text": [
            "\rEpoch:   0%|          | 0/1 [00:00<?, ?it/s]"
          ]
        },
        {
          "output_type": "stream",
          "name": "stdout",
          "text": [
            "new loss:  tensor(1.0873, grad_fn=<NllLossBackward0>) step:  0\n",
            "new loss:  tensor(1.1056, grad_fn=<NllLossBackward0>) step:  1\n",
            "new loss:  tensor(1.0271, grad_fn=<NllLossBackward0>) step:  2\n",
            "new loss:  tensor(1.1750, grad_fn=<NllLossBackward0>) step:  3\n",
            "new loss:  tensor(1.1305, grad_fn=<NllLossBackward0>) step:  4\n",
            "new loss:  tensor(1.1087, grad_fn=<NllLossBackward0>) step:  5\n",
            "new loss:  tensor(1.1149, grad_fn=<NllLossBackward0>) step:  6\n",
            "new loss:  tensor(1.1595, grad_fn=<NllLossBackward0>) step:  7\n",
            "new loss:  tensor(1.1363, grad_fn=<NllLossBackward0>) step:  8\n",
            "new loss:  tensor(1.0557, grad_fn=<NllLossBackward0>) step:  9\n",
            "new loss:  tensor(1.0559, grad_fn=<NllLossBackward0>) step:  10\n",
            "new loss:  tensor(1.0846, grad_fn=<NllLossBackward0>) step:  11\n",
            "new loss:  tensor(1.1216, grad_fn=<NllLossBackward0>) step:  12\n",
            "new loss:  tensor(1.0680, grad_fn=<NllLossBackward0>) step:  13\n",
            "new loss:  tensor(1.0356, grad_fn=<NllLossBackward0>) step:  14\n",
            "new loss:  tensor(1.1026, grad_fn=<NllLossBackward0>) step:  15\n",
            "new loss:  tensor(1.1225, grad_fn=<NllLossBackward0>) step:  16\n",
            "new loss:  tensor(1.1319, grad_fn=<NllLossBackward0>) step:  17\n",
            "new loss:  tensor(1.1030, grad_fn=<NllLossBackward0>) step:  18\n",
            "new loss:  tensor(1.0243, grad_fn=<NllLossBackward0>) step:  19\n",
            "new loss:  tensor(1.0524, grad_fn=<NllLossBackward0>) step:  20\n",
            "new loss:  tensor(1.0713, grad_fn=<NllLossBackward0>) step:  21\n",
            "new loss:  tensor(1.0948, grad_fn=<NllLossBackward0>) step:  22\n",
            "new loss:  tensor(1.0413, grad_fn=<NllLossBackward0>) step:  23\n",
            "new loss:  tensor(1.1173, grad_fn=<NllLossBackward0>) step:  24\n",
            "new loss:  tensor(1.1167, grad_fn=<NllLossBackward0>) step:  25\n",
            "new loss:  tensor(1.0744, grad_fn=<NllLossBackward0>) step:  26\n",
            "new loss:  tensor(1.0460, grad_fn=<NllLossBackward0>) step:  27\n",
            "new loss:  tensor(1.0674, grad_fn=<NllLossBackward0>) step:  28\n",
            "new loss:  tensor(1.0624, grad_fn=<NllLossBackward0>) step:  29\n",
            "new loss:  tensor(1.0000, grad_fn=<NllLossBackward0>) step:  30\n",
            "new loss:  tensor(0.9883, grad_fn=<NllLossBackward0>) step:  31\n",
            "new loss:  tensor(1.1322, grad_fn=<NllLossBackward0>) step:  32\n",
            "new loss:  tensor(1.0674, grad_fn=<NllLossBackward0>) step:  33\n",
            "new loss:  tensor(1.0745, grad_fn=<NllLossBackward0>) step:  34\n",
            "new loss:  tensor(1.0428, grad_fn=<NllLossBackward0>) step:  35\n",
            "new loss:  tensor(0.9660, grad_fn=<NllLossBackward0>) step:  36\n",
            "new loss:  tensor(1.1194, grad_fn=<NllLossBackward0>) step:  37\n",
            "new loss:  tensor(1.0637, grad_fn=<NllLossBackward0>) step:  38\n",
            "new loss:  tensor(0.9300, grad_fn=<NllLossBackward0>) step:  39\n",
            "new loss:  tensor(0.9027, grad_fn=<NllLossBackward0>) step:  40\n",
            "new loss:  tensor(0.9777, grad_fn=<NllLossBackward0>) step:  41\n",
            "new loss:  tensor(1.1411, grad_fn=<NllLossBackward0>) step:  42\n",
            "new loss:  tensor(0.9510, grad_fn=<NllLossBackward0>) step:  43\n",
            "new loss:  tensor(0.9524, grad_fn=<NllLossBackward0>) step:  44\n",
            "new loss:  tensor(0.9269, grad_fn=<NllLossBackward0>) step:  45\n",
            "new loss:  tensor(0.8123, grad_fn=<NllLossBackward0>) step:  46\n",
            "new loss:  tensor(1.0585, grad_fn=<NllLossBackward0>) step:  47\n",
            "new loss:  tensor(0.9033, grad_fn=<NllLossBackward0>) step:  48\n",
            "new loss:  tensor(0.9193, grad_fn=<NllLossBackward0>) step:  49\n",
            "new loss:  tensor(0.9942, grad_fn=<NllLossBackward0>) step:  50\n",
            "new loss:  tensor(0.8018, grad_fn=<NllLossBackward0>) step:  51\n",
            "new loss:  tensor(0.7978, grad_fn=<NllLossBackward0>) step:  52\n",
            "new loss:  tensor(0.7048, grad_fn=<NllLossBackward0>) step:  53\n",
            "new loss:  tensor(0.9330, grad_fn=<NllLossBackward0>) step:  54\n",
            "new loss:  tensor(0.6510, grad_fn=<NllLossBackward0>) step:  55\n",
            "new loss:  tensor(0.7657, grad_fn=<NllLossBackward0>) step:  56\n",
            "new loss:  tensor(0.8753, grad_fn=<NllLossBackward0>) step:  57\n",
            "new loss:  tensor(0.8634, grad_fn=<NllLossBackward0>) step:  58\n",
            "new loss:  tensor(0.6538, grad_fn=<NllLossBackward0>) step:  59\n",
            "new loss:  tensor(0.9037, grad_fn=<NllLossBackward0>) step:  60\n",
            "new loss:  tensor(0.7318, grad_fn=<NllLossBackward0>) step:  61\n",
            "new loss:  tensor(0.6297, grad_fn=<NllLossBackward0>) step:  62\n",
            "new loss:  tensor(0.7369, grad_fn=<NllLossBackward0>) step:  63\n",
            "new loss:  tensor(0.7669, grad_fn=<NllLossBackward0>) step:  64\n",
            "new loss:  tensor(0.7423, grad_fn=<NllLossBackward0>) step:  65\n",
            "new loss:  tensor(0.6854, grad_fn=<NllLossBackward0>) step:  66\n",
            "new loss:  tensor(0.8686, grad_fn=<NllLossBackward0>) step:  67\n",
            "new loss:  tensor(0.5785, grad_fn=<NllLossBackward0>) step:  68\n",
            "new loss:  tensor(0.5749, grad_fn=<NllLossBackward0>) step:  69\n",
            "new loss:  tensor(0.7514, grad_fn=<NllLossBackward0>) step:  70\n",
            "new loss:  tensor(0.7823, grad_fn=<NllLossBackward0>) step:  71\n",
            "new loss:  tensor(0.7657, grad_fn=<NllLossBackward0>) step:  72\n",
            "new loss:  tensor(0.8816, grad_fn=<NllLossBackward0>) step:  73\n",
            "new loss:  tensor(0.8706, grad_fn=<NllLossBackward0>) step:  74\n",
            "new loss:  tensor(0.6633, grad_fn=<NllLossBackward0>) step:  75\n",
            "new loss:  tensor(0.8533, grad_fn=<NllLossBackward0>) step:  76\n",
            "new loss:  tensor(0.8607, grad_fn=<NllLossBackward0>) step:  77\n",
            "new loss:  tensor(0.4969, grad_fn=<NllLossBackward0>) step:  78\n",
            "new loss:  tensor(0.9023, grad_fn=<NllLossBackward0>) step:  79\n",
            "new loss:  tensor(0.5216, grad_fn=<NllLossBackward0>) step:  80\n",
            "new loss:  tensor(0.5617, grad_fn=<NllLossBackward0>) step:  81\n",
            "new loss:  tensor(0.7491, grad_fn=<NllLossBackward0>) step:  82\n",
            "new loss:  tensor(0.8426, grad_fn=<NllLossBackward0>) step:  83\n",
            "new loss:  tensor(0.4650, grad_fn=<NllLossBackward0>) step:  84\n",
            "new loss:  tensor(0.5878, grad_fn=<NllLossBackward0>) step:  85\n",
            "new loss:  tensor(0.4215, grad_fn=<NllLossBackward0>) step:  86\n",
            "new loss:  tensor(0.6631, grad_fn=<NllLossBackward0>) step:  87\n",
            "new loss:  tensor(0.7124, grad_fn=<NllLossBackward0>) step:  88\n",
            "new loss:  tensor(0.6266, grad_fn=<NllLossBackward0>) step:  89\n",
            "new loss:  tensor(0.5184, grad_fn=<NllLossBackward0>) step:  90\n",
            "new loss:  tensor(0.6228, grad_fn=<NllLossBackward0>) step:  91\n",
            "new loss:  tensor(0.8118, grad_fn=<NllLossBackward0>) step:  92\n",
            "new loss:  tensor(0.5432, grad_fn=<NllLossBackward0>) step:  93\n",
            "new loss:  tensor(0.5202, grad_fn=<NllLossBackward0>) step:  94\n",
            "new loss:  tensor(0.6361, grad_fn=<NllLossBackward0>) step:  95\n",
            "new loss:  tensor(0.6423, grad_fn=<NllLossBackward0>) step:  96\n",
            "new loss:  tensor(0.7132, grad_fn=<NllLossBackward0>) step:  97\n",
            "new loss:  tensor(0.5888, grad_fn=<NllLossBackward0>) step:  98\n",
            "new loss:  tensor(0.7852, grad_fn=<NllLossBackward0>) step:  99\n",
            "new loss:  tensor(0.5589, grad_fn=<NllLossBackward0>) step:  100\n",
            "new loss:  tensor(0.5366, grad_fn=<NllLossBackward0>) step:  101\n",
            "new loss:  tensor(0.6495, grad_fn=<NllLossBackward0>) step:  102\n",
            "new loss:  tensor(0.6862, grad_fn=<NllLossBackward0>) step:  103\n",
            "new loss:  tensor(0.5061, grad_fn=<NllLossBackward0>) step:  104\n",
            "new loss:  tensor(0.5682, grad_fn=<NllLossBackward0>) step:  105\n",
            "new loss:  tensor(0.7424, grad_fn=<NllLossBackward0>) step:  106\n",
            "new loss:  tensor(0.6329, grad_fn=<NllLossBackward0>) step:  107\n",
            "new loss:  tensor(0.6508, grad_fn=<NllLossBackward0>) step:  108\n",
            "new loss:  tensor(0.6535, grad_fn=<NllLossBackward0>) step:  109\n",
            "new loss:  tensor(0.8098, grad_fn=<NllLossBackward0>) step:  110\n",
            "new loss:  tensor(0.4984, grad_fn=<NllLossBackward0>) step:  111\n",
            "new loss:  tensor(0.6668, grad_fn=<NllLossBackward0>) step:  112\n",
            "new loss:  tensor(0.5994, grad_fn=<NllLossBackward0>) step:  113\n",
            "new loss:  tensor(0.5936, grad_fn=<NllLossBackward0>) step:  114\n",
            "new loss:  tensor(0.6281, grad_fn=<NllLossBackward0>) step:  115\n",
            "new loss:  tensor(0.5505, grad_fn=<NllLossBackward0>) step:  116\n",
            "new loss:  tensor(0.7166, grad_fn=<NllLossBackward0>) step:  117\n",
            "new loss:  tensor(0.8818, grad_fn=<NllLossBackward0>) step:  118\n",
            "new loss:  tensor(0.5262, grad_fn=<NllLossBackward0>) step:  119\n",
            "new loss:  tensor(0.4372, grad_fn=<NllLossBackward0>) step:  120\n",
            "new loss:  tensor(0.6613, grad_fn=<NllLossBackward0>) step:  121\n",
            "new loss:  tensor(0.5670, grad_fn=<NllLossBackward0>) step:  122\n",
            "new loss:  tensor(0.3793, grad_fn=<NllLossBackward0>) step:  123\n",
            "new loss:  tensor(0.6282, grad_fn=<NllLossBackward0>) step:  124\n",
            "new loss:  tensor(0.6511, grad_fn=<NllLossBackward0>) step:  125\n",
            "new loss:  tensor(0.7453, grad_fn=<NllLossBackward0>) step:  126\n",
            "new loss:  tensor(0.8280, grad_fn=<NllLossBackward0>) step:  127\n",
            "new loss:  tensor(0.6269, grad_fn=<NllLossBackward0>) step:  128\n",
            "new loss:  tensor(0.6757, grad_fn=<NllLossBackward0>) step:  129\n",
            "new loss:  tensor(0.6517, grad_fn=<NllLossBackward0>) step:  130\n",
            "new loss:  tensor(0.4088, grad_fn=<NllLossBackward0>) step:  131\n",
            "new loss:  tensor(0.8805, grad_fn=<NllLossBackward0>) step:  132\n",
            "new loss:  tensor(0.6771, grad_fn=<NllLossBackward0>) step:  133\n",
            "new loss:  tensor(0.5676, grad_fn=<NllLossBackward0>) step:  134\n",
            "new loss:  tensor(0.5952, grad_fn=<NllLossBackward0>) step:  135\n",
            "new loss:  tensor(0.6917, grad_fn=<NllLossBackward0>) step:  136\n",
            "new loss:  tensor(0.6126, grad_fn=<NllLossBackward0>) step:  137\n",
            "new loss:  tensor(0.6756, grad_fn=<NllLossBackward0>) step:  138\n",
            "new loss:  tensor(0.7819, grad_fn=<NllLossBackward0>) step:  139\n",
            "new loss:  tensor(0.5080, grad_fn=<NllLossBackward0>) step:  140\n",
            "new loss:  tensor(0.6521, grad_fn=<NllLossBackward0>) step:  141\n",
            "new loss:  tensor(0.9187, grad_fn=<NllLossBackward0>) step:  142\n",
            "new loss:  tensor(0.9913, grad_fn=<NllLossBackward0>) step:  143\n",
            "new loss:  tensor(0.5384, grad_fn=<NllLossBackward0>) step:  144\n",
            "new loss:  tensor(0.5782, grad_fn=<NllLossBackward0>) step:  145\n",
            "new loss:  tensor(0.7185, grad_fn=<NllLossBackward0>) step:  146\n",
            "new loss:  tensor(0.6640, grad_fn=<NllLossBackward0>) step:  147\n",
            "new loss:  tensor(0.5924, grad_fn=<NllLossBackward0>) step:  148\n",
            "new loss:  tensor(0.3501, grad_fn=<NllLossBackward0>) step:  149\n",
            "new loss:  tensor(0.7127, grad_fn=<NllLossBackward0>) step:  150\n",
            "new loss:  tensor(0.5601, grad_fn=<NllLossBackward0>) step:  151\n",
            "new loss:  tensor(0.7652, grad_fn=<NllLossBackward0>) step:  152\n",
            "new loss:  tensor(0.8624, grad_fn=<NllLossBackward0>) step:  153\n",
            "new loss:  tensor(0.9306, grad_fn=<NllLossBackward0>) step:  154\n",
            "new loss:  tensor(0.5990, grad_fn=<NllLossBackward0>) step:  155\n",
            "new loss:  tensor(0.6058, grad_fn=<NllLossBackward0>) step:  156\n",
            "Train loss: 0.7973982777185501\n"
          ]
        },
        {
          "output_type": "stream",
          "name": "stderr",
          "text": [
            "Epoch: 100%|██████████| 1/1 [37:36<00:00, 2256.28s/it]"
          ]
        },
        {
          "output_type": "stream",
          "name": "stdout",
          "text": [
            "Validation Accuracy: 0.7497184684684685\n"
          ]
        },
        {
          "output_type": "stream",
          "name": "stderr",
          "text": [
            "\n"
          ]
        }
      ],
      "source": [
        "\n",
        "\n",
        "t = [] \n",
        "\n",
        "# Store our loss and accuracy for plotting\n",
        "train_loss_set = []\n",
        "\n",
        "# Number of training epochs \n",
        "epochs = 1\n",
        "\n",
        "# trange is a tqdm wrapper around the normal python range\n",
        "for _ in trange(epochs, desc=\"Epoch\"):\n",
        "  \n",
        "  \n",
        "  # Training\n",
        "  \n",
        "  # Set our model to training mode (as opposed to evaluation mode)\n",
        "  model.train()\n",
        "  \n",
        "  # Tracking variables\n",
        "  tr_loss = 0\n",
        "  nb_tr_examples, nb_tr_steps = 0, 0\n",
        "  \n",
        "  # Train the data for one epoch\n",
        "  for step, batch in enumerate(train_dataloader):\n",
        "    # Add batch to GPU\n",
        "    # batch = tuple(t.to(device) for t in batch)\n",
        "    # Unpack the inputs from our dataloader\n",
        "    b_input_ids, b_input_mask, b_labels = batch\n",
        "    # Clear out the gradients (by default they accumulate)\n",
        "    optimizer.zero_grad()\n",
        "    # Forward pass\n",
        "    loss = model(b_input_ids, token_type_ids=None, attention_mask=b_input_mask, labels=b_labels)\n",
        "    print('new loss: ',loss,'step: ',step)\n",
        "    # ,'batch: ',batch\n",
        "    train_loss_set.append(loss.item())\n",
        "    # print('train_loss_set: ',train_loss_set)    \n",
        "    # Backward pass\n",
        "    loss.backward()\n",
        "    # Update parameters and take a step using the computed gradient\n",
        "    optimizer.step()\n",
        "    \n",
        "    \n",
        "    # Update tracking variables\n",
        "    tr_loss += loss.item()\n",
        "    nb_tr_examples += b_input_ids.size(0)\n",
        "    nb_tr_steps += 1\n",
        "\n",
        "  print(\"Train loss: {}\".format(tr_loss/nb_tr_steps))\n",
        "    \n",
        "    \n",
        "  # Validation\n",
        "\n",
        "  # Put model in evaluation mode to evaluate loss on the validation set\n",
        "  model.eval()\n",
        "\n",
        "  # Tracking variables \n",
        "  eval_loss, eval_accuracy = 0, 0\n",
        "  nb_eval_steps, nb_eval_examples = 0, 0\n",
        "  pred_list = [] \n",
        "  true_v_list = []\n",
        "  # Evaluate data for one epoch\n",
        "  for batch in validation_dataloader:\n",
        "    # Add batch to GPU\n",
        "    # batch = tuple(t.to(device) for t in batch)\n",
        "    # Unpack the inputs from our dataloader\n",
        "    b_input_ids, b_input_mask, b_labels = batch\n",
        "    # Telling the model not to compute or store gradients, saving memory and speeding up validation\n",
        "    with torch.no_grad():\n",
        "      # Forward pass, calculate logit predictions\n",
        "      logits = model(b_input_ids, token_type_ids=None, attention_mask=b_input_mask)\n",
        "    \n",
        "    # Move logits and labels to CPU\n",
        "    logits = logits.detach().cpu().numpy()\n",
        "    label_ids = b_labels.to('cpu').numpy()\n",
        "\n",
        "    tmp_eval_accuracy,pred_flat = flat_accuracy(logits, label_ids)\n",
        "    # pred_list = pred_list + pred_flat\n",
        "    # true_v_list = true_v_list + label_ids\n",
        "    eval_accuracy += tmp_eval_accuracy\n",
        "    nb_eval_steps += 1\n",
        "\n",
        "  # val_f1 = f1_score_func(pred_list, true_vals)\n",
        "  print(\"Validation Accuracy: {}\".format(eval_accuracy/nb_eval_steps))\n",
        "  \n",
        "  # acc  = accuracy_per_class(predictions, true_vals)\n",
        "\n"
      ]
    },
    {
      "cell_type": "code",
      "execution_count": 297,
      "metadata": {
        "id": "-P4ZypEVMlhX"
      },
      "outputs": [],
      "source": [
        "log1 = np.argmax(logits, axis=1).flatten()"
      ]
    },
    {
      "cell_type": "code",
      "execution_count": 298,
      "metadata": {
        "id": "P_tye-SGdaWC"
      },
      "outputs": [],
      "source": [
        "model.eval()\n",
        "\n",
        "# Tracking variables \n",
        "eval_loss, eval_accuracy = 0, 0\n",
        "nb_eval_steps, nb_eval_examples = 0, 0\n",
        "pred_list = [] \n",
        "true_v_list = []\n",
        "# Evaluate data for one epoch\n",
        "for batch in validation_dataloader:\n",
        "# Add batch to GPU\n",
        "# batch = tuple(t.to(device) for t in batch)\n",
        "# Unpack the inputs from our dataloader\n",
        "  b_input_ids, b_input_mask, b_labels = batch\n",
        "# Telling the model not to compute or store gradients, saving memory and speeding up validation\n",
        "  with torch.no_grad():\n",
        "  # Forward pass, calculate logit predictions\n",
        "    logits = model(b_input_ids, token_type_ids=None, attention_mask=b_input_mask)\n",
        "\n",
        "# Move logits and labels to CPU\n",
        "  logits = logits.detach().cpu().numpy()\n",
        "  label_ids = b_labels.to('cpu').numpy()\n",
        "  tmp_eval_accuracy,pred_flat = flat_accuracy(logits, label_ids)\n",
        "  pred_list.extend(pred_flat)\n",
        "  true_v_list.extend(label_ids)\n",
        "\n",
        "  eval_accuracy += tmp_eval_accuracy\n",
        "  nb_eval_steps += 1\n",
        "\n"
      ]
    },
    {
      "cell_type": "code",
      "source": [
        "print('pred',len(pred_list))\n",
        "print('true',len(true_v_list))\n",
        "print(pred_list[1])\n",
        "print(true_v_list[1])"
      ],
      "metadata": {
        "colab": {
          "base_uri": "https://localhost:8080/"
        },
        "id": "BLtSRfTQeQJ1",
        "outputId": "aca446c9-1214-4161-fbcc-728b20726fd1"
      },
      "execution_count": 299,
      "outputs": [
        {
          "output_type": "stream",
          "name": "stdout",
          "text": [
            "pred 3532\n",
            "true 3532\n",
            "0\n",
            "0\n"
          ]
        }
      ]
    },
    {
      "cell_type": "code",
      "source": [
        "from sklearn.metrics import classification_report,confusion_matrix\n",
        "import seaborn as sns\n",
        "def model_Evaluate(y_pred,y_test):   #三分类\n",
        "  # Predict values for Test dataset\n",
        "    # y_pred = model.predict(X_test)\n",
        "  # Print the evaluation metrics for the dataset.\n",
        "    # y_test = np.argmax(y_test, axis = 1)\n",
        "    # y_pred = np.argmax(y_pred, axis = 1)\n",
        "    print(classification_report(y_test, y_pred))\n",
        "  # Compute and plot the Confusion matrix\n",
        "    cf_matrix = confusion_matrix(y_test, y_pred)\n",
        "    categories = ['Negative','Netrual','Positive']\n",
        "    group_names = ['True Negative','False Netrual','False Positive', 'False Negative','True Netrual','False Positive','False Negative','False Netrual','True Positive']\n",
        "    group_percentages = ['\\n{0:.2%}'.format(value) for value in cf_matrix.flatten() / np.sum(cf_matrix)]\n",
        "    labels = [f'{v1}{v2}' for v1, v2 in zip(group_names, group_percentages)]\n",
        "  \n",
        "    labels = np.asarray(labels).reshape(3,3)\n",
        "    sns.heatmap(cf_matrix, annot = labels, cmap = 'Blues',fmt = '',\n",
        "    xticklabels = categories, yticklabels = categories)\n",
        "    plt.xlabel(\"Predicted values\", fontdict = {'size':14}, labelpad = 10)\n",
        "    plt.ylabel(\"Actual values\" , fontdict = {'size':14}, labelpad = 10)\n",
        "    plt.title (\"Confusion Matrix\", fontdict = {'size':18}, pad = 20)"
      ],
      "metadata": {
        "id": "OQr3-XfHfiDY"
      },
      "execution_count": 300,
      "outputs": []
    },
    {
      "cell_type": "code",
      "execution_count": 301,
      "metadata": {
        "colab": {
          "base_uri": "https://localhost:8080/",
          "height": 502
        },
        "id": "3kElTENldHJL",
        "outputId": "6f3ba881-47a9-45a3-b7bd-68d1c93bcafb"
      },
      "outputs": [
        {
          "output_type": "stream",
          "name": "stdout",
          "text": [
            "              precision    recall  f1-score   support\n",
            "\n",
            "           0       0.75      0.75      0.75      1001\n",
            "           1       0.70      0.74      0.72      1429\n",
            "           2       0.83      0.76      0.79      1102\n",
            "\n",
            "    accuracy                           0.75      3532\n",
            "   macro avg       0.76      0.75      0.75      3532\n",
            "weighted avg       0.75      0.75      0.75      3532\n",
            "\n"
          ]
        },
        {
          "output_type": "display_data",
          "data": {
            "text/plain": [
              "<Figure size 432x288 with 2 Axes>"
            ],
            "image/png": "[encoded data removed]"
          },
          "metadata": {
            "needs_background": "light"
          }
        }
      ],
      "source": [
        "model_Evaluate(pred_list,true_v_list)"
      ]
    },
    {
      "cell_type": "code",
      "execution_count": 302,
      "metadata": {
        "colab": {
          "base_uri": "https://localhost:8080/",
          "height": 313
        },
        "id": "F-EFFANoiDAK",
        "outputId": "cb922df6-5c68-447f-b47b-fb762d4c8181"
      },
      "outputs": [
        {
          "output_type": "execute_result",
          "data": {
            "text/plain": [
              "Text(0.5, 0, 'steps')"
            ]
          },
          "metadata": {},
          "execution_count": 302
        },
        {
          "output_type": "display_data",
          "data": {
            "text/plain": [
              "<Figure size 432x288 with 1 Axes>"
            ],
            "image/png": "[encoded data removed]"
          },
          "metadata": {
            "needs_background": "light"
          }
        }
      ],
      "source": [
        "import matplotlib.pyplot as plt\n",
        "%matplotlib inline\n",
        "plt.plot(train_loss_set)\n",
        "#this is not nessisary but makes your plot more readable\n",
        "plt.title(\"5000 Twitter dataset with 8e-6 LR\")\n",
        "plt.ylabel('Loss')\n",
        "plt.xlabel('steps')"
      ]
    },
    {
      "cell_type": "code",
      "execution_count": null,
      "metadata": {
        "id": "r1cvEauniltS"
      },
      "outputs": [],
      "source": [
        ""
      ]
    }
  ],
  "metadata": {
    "accelerator": "GPU",
    "colab": {
      "background_execution": "on",
      "collapsed_sections": [],
      "machine_shape": "hm",
      "name": "BERT.ipynb",
      "provenance": []
    },
    "kernelspec": {
      "display_name": "Python 3",
      "name": "python3"
    },
    "language_info": {
      "name": "python"
    }
  },
  "nbformat": 4,
  "nbformat_minor": 0
}