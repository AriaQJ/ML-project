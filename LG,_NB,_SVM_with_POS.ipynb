{
  "nbformat": 4,
  "nbformat_minor": 0,
  "metadata": {
    "colab": {
      "name": "LG, NB, SVM with POS.ipynb",
      "provenance": [],
      "collapsed_sections": []
    },
    "kernelspec": {
      "name": "python3",
      "display_name": "Python 3"
    },
    "language_info": {
      "name": "python"
    }
  },
  "cells": [
    {
      "cell_type": "code",
      "execution_count": null,
      "metadata": {
        "cellView": "form",
        "id": "aT9l51Vcj_IG"
      },
      "outputs": [],
      "source": [
        "#@title\n",
        "# utilities\n",
        "import re\n",
        "import numpy as np\n",
        "import pandas as pd\n",
        "# plotting\n",
        "import seaborn as sns\n",
        "from wordcloud import WordCloud\n",
        "import matplotlib.pyplot as plt\n",
        "# nltk\n",
        "from nltk.stem import WordNetLemmatizer\n",
        "# sklearn\n",
        "from sklearn.svm import LinearSVC\n",
        "from sklearn.naive_bayes import BernoulliNB\n",
        "from sklearn.linear_model import LogisticRegression\n",
        "from sklearn.model_selection import train_test_split\n",
        "from sklearn.feature_extraction.text import TfidfVectorizer\n",
        "from sklearn.metrics import confusion_matrix, classification_report"
      ]
    },
    {
      "cell_type": "code",
      "source": [
        "#@title\n",
        "df_train = pd.read_csv('train.csv')\n",
        "df_test = pd.read_csv('test.csv')\n",
        "# Load your data and print 2-3 examples\n",
        "df_train[1:4]"
      ],
      "metadata": {
        "colab": {
          "base_uri": "https://localhost:8080/",
          "height": 143
        },
        "id": "glo-N-F-nk70",
        "outputId": "4b8e0fbb-6f2d-4de0-8312-c8c5b8b3ef3b"
      },
      "execution_count": null,
      "outputs": [
        {
          "output_type": "execute_result",
          "data": {
            "text/plain": [
              "       textID                                            text   selected_text  \\\n",
              "1  549e992a42   Sooo SAD I will miss you here in San Diego!!!        Sooo SAD   \n",
              "2  088c60f138                       my boss is bullying me...     bullying me   \n",
              "3  9642c003ef                  what interview! leave me alone  leave me alone   \n",
              "\n",
              "  sentiment  \n",
              "1  negative  \n",
              "2  negative  \n",
              "3  negative  "
            ],
            "text/html": [
              "\n",
              "  <div id=\"df-cf4f34a1-5d40-45ac-a2e8-6034fcc177b1\">\n",
              "    <div class=\"colab-df-container\">\n",
              "      <div>\n",
              "<style scoped>\n",
              "    .dataframe tbody tr th:only-of-type {\n",
              "        vertical-align: middle;\n",
              "    }\n",
              "\n",
              "    .dataframe tbody tr th {\n",
              "        vertical-align: top;\n",
              "    }\n",
              "\n",
              "    .dataframe thead th {\n",
              "        text-align: right;\n",
              "    }\n",
              "</style>\n",
              "<table border=\"1\" class=\"dataframe\">\n",
              "  <thead>\n",
              "    <tr style=\"text-align: right;\">\n",
              "      <th></th>\n",
              "      <th>textID</th>\n",
              "      <th>text</th>\n",
              "      <th>selected_text</th>\n",
              "      <th>sentiment</th>\n",
              "    </tr>\n",
              "  </thead>\n",
              "  <tbody>\n",
              "    <tr>\n",
              "      <th>1</th>\n",
              "      <td>549e992a42</td>\n",
              "      <td>Sooo SAD I will miss you here in San Diego!!!</td>\n",
              "      <td>Sooo SAD</td>\n",
              "      <td>negative</td>\n",
              "    </tr>\n",
              "    <tr>\n",
              "      <th>2</th>\n",
              "      <td>088c60f138</td>\n",
              "      <td>my boss is bullying me...</td>\n",
              "      <td>bullying me</td>\n",
              "      <td>negative</td>\n",
              "    </tr>\n",
              "    <tr>\n",
              "      <th>3</th>\n",
              "      <td>9642c003ef</td>\n",
              "      <td>what interview! leave me alone</td>\n",
              "      <td>leave me alone</td>\n",
              "      <td>negative</td>\n",
              "    </tr>\n",
              "  </tbody>\n",
              "</table>\n",
              "</div>\n",
              "      <button class=\"colab-df-convert\" onclick=\"convertToInteractive('df-cf4f34a1-5d40-45ac-a2e8-6034fcc177b1')\"\n",
              "              title=\"Convert this dataframe to an interactive table.\"\n",
              "              style=\"display:none;\">\n",
              "        \n",
              "  <svg xmlns=\"http://www.w3.org/2000/svg\" height=\"24px\"viewBox=\"0 0 24 24\"\n",
              "       width=\"24px\">\n",
              "    <path d=\"M0 0h24v24H0V0z\" fill=\"none\"/>\n",
              "    <path d=\"M18.56 5.44l.94 2.06.94-2.06 2.06-.94-2.06-.94-.94-2.06-.94 2.06-2.06.94zm-11 1L8.5 8.5l.94-2.06 2.06-.94-2.06-.94L8.5 2.5l-.94 2.06-2.06.94zm10 10l.94 2.06.94-2.06 2.06-.94-2.06-.94-.94-2.06-.94 2.06-2.06.94z\"/><path d=\"M17.41 7.96l-1.37-1.37c-.4-.4-.92-.59-1.43-.59-.52 0-1.04.2-1.43.59L10.3 9.45l-7.72 7.72c-.78.78-.78 2.05 0 2.83L4 21.41c.39.39.9.59 1.41.59.51 0 1.02-.2 1.41-.59l7.78-7.78 2.81-2.81c.8-.78.8-2.07 0-2.86zM5.41 20L4 18.59l7.72-7.72 1.47 1.35L5.41 20z\"/>\n",
              "  </svg>\n",
              "      </button>\n",
              "      \n",
              "  <style>\n",
              "    .colab-df-container {\n",
              "      display:flex;\n",
              "      flex-wrap:wrap;\n",
              "      gap: 12px;\n",
              "    }\n",
              "\n",
              "    .colab-df-convert {\n",
              "      background-color: #E8F0FE;\n",
              "      border: none;\n",
              "      border-radius: 50%;\n",
              "      cursor: pointer;\n",
              "      display: none;\n",
              "      fill: #1967D2;\n",
              "      height: 32px;\n",
              "      padding: 0 0 0 0;\n",
              "      width: 32px;\n",
              "    }\n",
              "\n",
              "    .colab-df-convert:hover {\n",
              "      background-color: #E2EBFA;\n",
              "      box-shadow: 0px 1px 2px rgba(60, 64, 67, 0.3), 0px 1px 3px 1px rgba(60, 64, 67, 0.15);\n",
              "      fill: #174EA6;\n",
              "    }\n",
              "\n",
              "    [theme=dark] .colab-df-convert {\n",
              "      background-color: #3B4455;\n",
              "      fill: #D2E3FC;\n",
              "    }\n",
              "\n",
              "    [theme=dark] .colab-df-convert:hover {\n",
              "      background-color: #434B5C;\n",
              "      box-shadow: 0px 1px 3px 1px rgba(0, 0, 0, 0.15);\n",
              "      filter: drop-shadow(0px 1px 2px rgba(0, 0, 0, 0.3));\n",
              "      fill: #FFFFFF;\n",
              "    }\n",
              "  </style>\n",
              "\n",
              "      <script>\n",
              "        const buttonEl =\n",
              "          document.querySelector('#df-cf4f34a1-5d40-45ac-a2e8-6034fcc177b1 button.colab-df-convert');\n",
              "        buttonEl.style.display =\n",
              "          google.colab.kernel.accessAllowed ? 'block' : 'none';\n",
              "\n",
              "        async function convertToInteractive(key) {\n",
              "          const element = document.querySelector('#df-cf4f34a1-5d40-45ac-a2e8-6034fcc177b1');\n",
              "          const dataTable =\n",
              "            await google.colab.kernel.invokeFunction('convertToInteractive',\n",
              "                                                     [key], {});\n",
              "          if (!dataTable) return;\n",
              "\n",
              "          const docLinkHtml = 'Like what you see? Visit the ' +\n",
              "            '<a target=\"_blank\" href=https://colab.research.google.com/notebooks/data_table.ipynb>data table notebook</a>'\n",
              "            + ' to learn more about interactive tables.';\n",
              "          element.innerHTML = '';\n",
              "          dataTable['output_type'] = 'display_data';\n",
              "          await google.colab.output.renderOutput(dataTable, element);\n",
              "          const docLink = document.createElement('div');\n",
              "          docLink.innerHTML = docLinkHtml;\n",
              "          element.appendChild(docLink);\n",
              "        }\n",
              "      </script>\n",
              "    </div>\n",
              "  </div>\n",
              "  "
            ]
          },
          "metadata": {},
          "execution_count": 2
        }
      ]
    },
    {
      "cell_type": "code",
      "source": [
        "#@title\n",
        "# POS \n",
        "# Remove blank tweets \n",
        "df_train = df_train.drop(df_train[df_train.isnull().any(axis=1)].index)\n",
        "df_test = df_test.drop(df_test[df_test.isnull().any(axis=1)].index)\n",
        "\n",
        "# Pre-processing \n",
        "data=df_train[['text','sentiment']].copy()\n",
        "data_test=df_test[['text','sentiment']].copy()\n",
        "preprocess = pd.DataFrame()\n",
        "preprocess['step'] = ['original text','lower case', 'remove stopword', 'remove punctuations, numbers, URLs']\n",
        "preprocess['example 1'] = [data['text'][17], np.nan, np.nan, np.nan]\n",
        "preprocess['example 2'] = [data['text'][20], np.nan, np.nan, np.nan]\n",
        "preprocess['example 3'] = [data['text'][24], np.nan, np.nan, np.nan]\n",
        "## lower cases \n",
        "data['text'] = data['text'].str.lower()\n",
        "data_test['text'] = data_test['text'].str.lower()\n",
        "preprocess['example 1'][1] = data['text'][17]\n",
        "preprocess['example 2'][1] = data['text'][20]\n",
        "preprocess['example 3'][1] = data['text'][24]\n",
        "\n",
        "def cleaning_numbers(data):\n",
        "    return re.sub('[0-9]+', '', data)\n",
        "def cleaning_repeating_char(text):\n",
        "    return re.sub(r'(.)1+', r'1', text)       #advanced substitude\n",
        "def cleaning_URLs(data):\n",
        "    return re.sub('((www.[^s]+)|(https?://[^s]+))',' ',data)\n",
        "import string\n",
        "english_punctuations = string.punctuation\n",
        "punctuations_list = english_punctuations\n",
        "def cleaning_punctuations(text):\n",
        "    translator = str.maketrans('', '', punctuations_list)\n",
        "    return text.translate(translator)\n",
        "data['text'] = data['text'].apply(lambda x: cleaning_URLs(x))\n",
        "#data['text']= data['text'].apply(lambda x: cleaning_punctuations(x))\n",
        "data['text'] = data['text'].apply(lambda x: cleaning_repeating_char(x))\n",
        "data['text'] = data['text'].apply(lambda x: cleaning_numbers(x))\n",
        "data['text'] = data.text.replace(r'\\s+', ' ', regex=True)\n",
        "\n",
        "data_test['text'] = data_test['text'].apply(lambda x: cleaning_URLs(x))\n",
        "#data_test['text'] = data_test['text'].apply(lambda x: cleaning_punctuations(x))\n",
        "data_test['text'] = data_test['text'].apply(lambda x: cleaning_repeating_char(x))\n",
        "data_test['text'] = data_test['text'].apply(lambda x: cleaning_numbers(x))\n",
        "data_test['text'] = data_test.text.replace(r'\\s+', ' ', regex=True)\n",
        "\n",
        "import spacy \n",
        "from spacy import displacy\n",
        "#  Open class words are sometimes called lexical or lexically full words, \n",
        "# as they carry more 'referential' meaning than the grammatical words.\n",
        "data[\"NOUN\"] = np.nan \n",
        "data['INTJ'] = np.nan\n",
        "data['VERB'] = np.nan\n",
        "data['ADJ'] = np.nan\n",
        "nlp = spacy.load(\"en_core_web_sm\")\n",
        "for i in range(len(data['text'])):\n",
        "  noun = \"\"\n",
        "  intj = \"\"\n",
        "  verb = \"\"\n",
        "  adj = \"\"\n",
        "  doc = nlp(data['text'].iloc[i])\n",
        "  for token in doc:\n",
        "    if token.pos_ == \"NOUN\":\n",
        "        noun = noun + \" \" + token.lemma_  \n",
        "    elif token.pos_ == \"INTJ\":\n",
        "        intj = intj + \" \" + token.lemma_\n",
        "    elif token.pos_ == \"VERB\":\n",
        "        verb = verb + \" \" + token.lemma_\n",
        "    elif token.pos_ == \"ADJ\":\n",
        "        adj = adj + \" \" + token.lemma_\n",
        "  data['NOUN'].iloc[i] = noun\n",
        "  data['INTJ'].iloc[i] = intj\n",
        "  data['VERB'].iloc[i] = verb\n",
        "  data['ADJ'].iloc[i] = adj\n",
        "\n",
        "data_test[\"NOUN\"] = np.nan \n",
        "data_test['INTJ'] = np.nan\n",
        "data_test['VERB'] = np.nan\n",
        "data_test['ADJ'] = np.nan\n",
        "nlp = spacy.load(\"en_core_web_sm\")\n",
        "for i in range(len(data_test['text'])):\n",
        "  noun = \"\"\n",
        "  intj = \"\"\n",
        "  verb = \"\"\n",
        "  adj = \"\"\n",
        "  doc = nlp(data_test['text'].iloc[i])\n",
        "  for token in doc:\n",
        "    if token.pos_ == \"NOUN\":\n",
        "        noun = noun + \" \" + token.lemma_  \n",
        "    elif token.pos_ == \"INTJ\":\n",
        "        intj = intj + \" \" + token.lemma_\n",
        "    elif token.pos_ == \"VERB\":\n",
        "        verb = verb + \" \" + token.lemma_\n",
        "    elif token.pos_ == \"ADJ\":\n",
        "        adj = adj + \" \" + token.lemma_\n",
        "  data_test['NOUN'].iloc[i] = noun\n",
        "  data_test['INTJ'].iloc[i] = intj\n",
        "  data_test['VERB'].iloc[i] = verb\n",
        "  data_test['ADJ'].iloc[i] = adj\n"
      ],
      "metadata": {
        "id": "nstiJaAGNWzW",
        "colab": {
          "base_uri": "https://localhost:8080/"
        },
        "outputId": "f99a4720-4f8f-40ac-979f-31c4256b9d83"
      },
      "execution_count": null,
      "outputs": [
        {
          "output_type": "stream",
          "name": "stderr",
          "text": [
            "/usr/local/lib/python3.7/dist-packages/pandas/core/indexing.py:1732: SettingWithCopyWarning: \n",
            "A value is trying to be set on a copy of a slice from a DataFrame\n",
            "\n",
            "See the caveats in the documentation: https://pandas.pydata.org/pandas-docs/stable/user_guide/indexing.html#returning-a-view-versus-a-copy\n",
            "  self._setitem_single_block(indexer, value, name)\n"
          ]
        }
      ]
    },
    {
      "cell_type": "code",
      "source": [
        "data.to_csv('data_POS.csv')\n",
        "data_test.to_csv('data_test_POS.csv')"
      ],
      "metadata": {
        "id": "6EAYig9-Zf30"
      },
      "execution_count": null,
      "outputs": []
    },
    {
      "cell_type": "code",
      "source": [
        "y_train = data.sentiment\n",
        "y_test = data_test.sentiment"
      ],
      "metadata": {
        "id": "X7ldf0UuTaWh"
      },
      "execution_count": null,
      "outputs": []
    },
    {
      "cell_type": "code",
      "source": [
        "from sklearn.pipeline import make_union\n",
        "\n",
        "word_vectorizer = TfidfVectorizer(\n",
        "    sublinear_tf=True,\n",
        "    strip_accents='unicode',\n",
        "    analyzer='word',\n",
        "    token_pattern=r'\\w{1,}',\n",
        "    ngram_range=(1, 1),\n",
        "    max_features=30000)\n",
        "char_vectorizer = TfidfVectorizer(\n",
        "    sublinear_tf=True,\n",
        "    strip_accents='unicode',\n",
        "    analyzer='char',\n",
        "    ngram_range=(1, 4),\n",
        "    max_features=30000)\n",
        "vectorizer = make_union(word_vectorizer, char_vectorizer, n_jobs=2)\n",
        "vectorizer.fit(data.NOUN)\n",
        "X_train_NOUN = vectorizer.transform(data.NOUN)\n",
        "X_test_NOUN = vectorizer.transform(data_test.NOUN)\n",
        "vectorizer.fit(data.INTJ)\n",
        "X_train_INTJ = vectorizer.transform(data.INTJ)\n",
        "X_test_INTJ = vectorizer.transform(data_test.INTJ)\n",
        "vectorizer.fit(data.VERB)\n",
        "X_train_VERB = vectorizer.transform(data.VERB)\n",
        "X_test_VERB = vectorizer.transform(data_test.VERB)\n",
        "vectorizer.fit(data.ADJ)\n",
        "X_train_ADJ = vectorizer.transform(data.ADJ)\n",
        "X_test_ADJ = vectorizer.transform(data_test.ADJ)\n",
        "\n"
      ],
      "metadata": {
        "id": "xEOR5wbrPL4Y"
      },
      "execution_count": null,
      "outputs": []
    },
    {
      "cell_type": "code",
      "source": [
        "vectoriser = TfidfVectorizer(ngram_range=(1,2), max_features=500000)\n",
        "vectoriser.fit(data.text)\n",
        "X_train_text = vectoriser.transform(data.text)\n",
        "X_test_text  = vectoriser.transform(data_test.text)"
      ],
      "metadata": {
        "id": "sbBav9sITWDJ"
      },
      "execution_count": null,
      "outputs": []
    },
    {
      "cell_type": "code",
      "source": [
        "from scipy.sparse import hstack\n",
        "X_train_tfidf = hstack([X_train_NOUN,X_train_INTJ,X_train_VERB,X_train_ADJ]) #,X_train_text\n",
        "X_test_tfidf = hstack([X_test_NOUN,X_test_INTJ,X_test_VERB,X_test_ADJ]) #,X_test_text"
      ],
      "metadata": {
        "id": "wgeKM4cAQo_Y"
      },
      "execution_count": null,
      "outputs": []
    },
    {
      "cell_type": "code",
      "source": [
        "X_train_tfidf"
      ],
      "metadata": {
        "id": "fTxW7Y-CstJ3",
        "outputId": "611c1f31-a40f-48ea-c543-bda927f4fbf4",
        "colab": {
          "base_uri": "https://localhost:8080/"
        }
      },
      "execution_count": null,
      "outputs": [
        {
          "output_type": "execute_result",
          "data": {
            "text/plain": [
              "<27480x83955 sparse matrix of type '<class 'numpy.float64'>'\n",
              "\twith 2754380 stored elements in COOrdinate format>"
            ]
          },
          "metadata": {},
          "execution_count": 11
        }
      ]
    },
    {
      "cell_type": "code",
      "source": [
        "#@title\n",
        "from sklearn.metrics import confusion_matrix\n",
        "def plot_confusion_matrix(cm, classes,\n",
        "                          normalize=False,\n",
        "                          title='Confusion matrix',\n",
        "                          cmap=plt.cm.Blues):\n",
        "    \"\"\"\n",
        "    This function prints and plots the confusion matrix.\n",
        "    Normalization can be applied by setting `normalize=True`.\n",
        "    \"\"\"\n",
        "    import itertools\n",
        "    if normalize:\n",
        "        cm = cm.astype('float') / cm.sum(axis=1)[:, np.newaxis]\n",
        "        print(\"Normalized confusion matrix\")\n",
        "    else:\n",
        "        print('Confusion matrix, without normalization')\n",
        "\n",
        "    print(cm)\n",
        "\n",
        "    plt.imshow(cm, interpolation='nearest', cmap=cmap)\n",
        "    plt.title(title)\n",
        "    plt.colorbar()\n",
        "    tick_marks = np.arange(len(classes))\n",
        "    plt.xticks(tick_marks, classes, rotation=45)\n",
        "    plt.yticks(tick_marks, classes)\n",
        "\n",
        "    fmt = '.2f' if normalize else 'd'\n",
        "    thresh = cm.max() / 2.\n",
        "    for i, j in itertools.product(range(cm.shape[0]), range(cm.shape[1])):\n",
        "        plt.text(j, i, format(cm[i, j], fmt),\n",
        "                 horizontalalignment=\"center\",\n",
        "                 color=\"white\" if cm[i, j] > thresh else \"black\")\n",
        "\n",
        "    plt.ylabel('True label')\n",
        "    plt.xlabel('Predicted label')\n",
        "    plt.tight_layout()"
      ],
      "metadata": {
        "cellView": "form",
        "id": "WKpo12B8P7ch"
      },
      "execution_count": null,
      "outputs": []
    },
    {
      "cell_type": "markdown",
      "source": [
        "### LG"
      ],
      "metadata": {
        "id": "r6EoVRHXatXu"
      }
    },
    {
      "cell_type": "code",
      "source": [
        "LRmodel = LogisticRegression(C = 3, max_iter = 1000, n_jobs=-1)\n",
        "LRmodel.fit(X_train_tfidf, y_train)\n",
        "y_pred3 = LRmodel.predict(X_test_tfidf)\n",
        "cnf_matrix = confusion_matrix(y_test, y_pred3,labels=['positive', 'neutral', 'negative'])\n",
        "np.set_printoptions(precision=2)\n",
        "\n",
        "# Plot non-normalized confusion matrix\n",
        "plt.figure()\n",
        "plot_confusion_matrix(cnf_matrix, classes=['positive', 'neutral', 'negative'],\n",
        "                      title='Confusion matrix, without normalization')"
      ],
      "metadata": {
        "colab": {
          "base_uri": "https://localhost:8080/",
          "height": 367
        },
        "id": "gpwL071o9jHt",
        "outputId": "bade4375-a233-4785-c723-770c1fe2ea6c"
      },
      "execution_count": null,
      "outputs": [
        {
          "output_type": "stream",
          "name": "stdout",
          "text": [
            "Confusion matrix, without normalization\n",
            "[[ 739  291   73]\n",
            " [ 176 1011  243]\n",
            " [  68  299  634]]\n"
          ]
        },
        {
          "output_type": "display_data",
          "data": {
            "text/plain": [
              "<Figure size 432x288 with 2 Axes>"
            ],
            "image/png": "[encoded data removed]"
          },
          "metadata": {
            "needs_background": "light"
          }
        }
      ]
    },
    {
      "cell_type": "markdown",
      "source": [
        "### NB"
      ],
      "metadata": {
        "id": "xjJGarpiXpPh"
      }
    },
    {
      "cell_type": "code",
      "source": [
        "BNBmodel = BernoulliNB()\n",
        "BNBmodel.fit(X_train_tfidf, y_train)\n",
        "y_pred1 = BNBmodel.predict(X_test_tfidf)\n",
        "cnf_matrix = confusion_matrix(y_test, y_pred1,labels=['positive', 'neutral', 'negative'])\n",
        "np.set_printoptions(precision=2)\n",
        "\n",
        "# Plot non-normalized confusion matrix\n",
        "plt.figure()\n",
        "plot_confusion_matrix(cnf_matrix, classes=['positive', 'neutral', 'negative'],\n",
        "                      title='Confusion matrix, without normalization')"
      ],
      "metadata": {
        "colab": {
          "base_uri": "https://localhost:8080/",
          "height": 367
        },
        "id": "d8tlLfwZXrRL",
        "outputId": "eb49f7c4-93e0-4d86-ee25-430f9e302025"
      },
      "execution_count": null,
      "outputs": [
        {
          "output_type": "stream",
          "name": "stdout",
          "text": [
            "Confusion matrix, without normalization\n",
            "[[ 664  368   71]\n",
            " [ 199 1017  214]\n",
            " [  68  365  568]]\n"
          ]
        },
        {
          "output_type": "display_data",
          "data": {
            "text/plain": [
              "<Figure size 432x288 with 2 Axes>"
            ],
            "image/png": "[encoded data removed]"
          },
          "metadata": {
            "needs_background": "light"
          }
        }
      ]
    },
    {
      "cell_type": "markdown",
      "source": [
        "#### SVM"
      ],
      "metadata": {
        "id": "eXLzOKzqVhdL"
      }
    },
    {
      "cell_type": "code",
      "source": [
        "#@title\n",
        "def model_Evaluate(model,X_test,y_test):\n",
        "  # Predict values for Test dataset\n",
        "  y_pred = model.predict(X_test)\n",
        "  # Print the evaluation metrics for the dataset.\n",
        "  print(classification_report(y_test, y_pred))\n",
        "  # Compute and plot the Confusion matrix\n",
        "  cf_matrix = confusion_matrix(y_test, y_pred)\n",
        "  categories = ['Negative','Positive']\n",
        "  group_names = ['True Neg','False Pos', 'False Neg','True Pos']\n",
        "  group_percentages = ['{0:.2%}'.format(value) for value in cf_matrix.flatten() / np.sum(cf_matrix)]\n",
        "  labels = [f'{v1}n{v2}' for v1, v2 in zip(group_names,group_percentages)]\n",
        "  labels = np.asarray(labels).reshape(2,2)\n",
        "  sns.heatmap(cf_matrix, annot = labels, cmap = 'Blues',fmt = '',\n",
        "  xticklabels = categories, yticklabels = categories)\n",
        "  plt.xlabel(\"Predicted values\", fontdict = {'size':14}, labelpad = 10)\n",
        "  plt.ylabel(\"Actual values\" , fontdict = {'size':14}, labelpad = 10)\n",
        "  plt.title (\"Confusion Matrix\", fontdict = {'size':18}, pad = 20)"
      ],
      "metadata": {
        "id": "GD758W-nVgYj"
      },
      "execution_count": null,
      "outputs": []
    },
    {
      "cell_type": "code",
      "source": [
        "data1_train = data.copy()\n",
        "data1_test = data_test.copy()\n",
        "data1_train['sentiment'] = data1_train['sentiment'].apply(lambda x: 'negative' if x == 'negative' else 'Pos/Neu')\n",
        "data1_test['sentiment'] = data1_test['sentiment'].apply(lambda x: 'negative' if x == 'negative' else 'Pos/Neu')\n",
        "\n",
        "data2_train = data[data.sentiment != \"negative\"].copy()\n",
        "data2_test = data_test[data_test.sentiment != \"negative\"].copy()"
      ],
      "metadata": {
        "id": "NL0XFclpPLzS"
      },
      "execution_count": null,
      "outputs": []
    },
    {
      "cell_type": "code",
      "source": [
        "y_train = data1_train.sentiment\n",
        "y_test = data1_test.sentiment\n",
        "\n",
        "word_vectorizer = TfidfVectorizer(\n",
        "    sublinear_tf=True,\n",
        "    strip_accents='unicode',\n",
        "    analyzer='word',\n",
        "    token_pattern=r'\\w{1,}',\n",
        "    ngram_range=(1, 1),\n",
        "    max_features=30000)\n",
        "char_vectorizer = TfidfVectorizer(\n",
        "    sublinear_tf=True,\n",
        "    strip_accents='unicode',\n",
        "    analyzer='char',\n",
        "    ngram_range=(1, 4),\n",
        "    max_features=30000)\n",
        "vectorizer = make_union(word_vectorizer, char_vectorizer, n_jobs=2)\n",
        "vectorizer.fit(data1_train.NOUN)\n",
        "X_train_NOUN = vectorizer.transform(data1_train.NOUN)\n",
        "X_test_NOUN = vectorizer.transform(data1_test.NOUN)\n",
        "vectorizer.fit(data1_train.INTJ)\n",
        "X_train_INTJ = vectorizer.transform(data1_train.INTJ)\n",
        "X_test_INTJ = vectorizer.transform(data1_test.INTJ)\n",
        "vectorizer.fit(data1_train.VERB)\n",
        "X_train_VERB = vectorizer.transform(data1_train.VERB)\n",
        "X_test_VERB = vectorizer.transform(data1_test.VERB)\n",
        "vectorizer.fit(data1_train.ADJ)\n",
        "X_train_ADJ = vectorizer.transform(data1_train.ADJ)\n",
        "X_test_ADJ = vectorizer.transform(data1_test.ADJ)\n",
        "\n",
        "vectoriser = TfidfVectorizer(ngram_range=(1,2), max_features=500000)\n",
        "vectoriser.fit(data1_train.text)\n",
        "X_train_text = vectoriser.transform(data1_train.text)\n",
        "X_test_text  = vectoriser.transform(data1_test.text)\n",
        "\n",
        "from scipy.sparse import hstack\n",
        "X_train_tfidf = hstack([X_train_NOUN,X_train_INTJ,X_train_VERB,X_train_ADJ,X_train_text])\n",
        "X_test_tfidf = hstack([X_test_NOUN,X_test_INTJ,X_test_VERB,X_test_ADJ,X_test_text])"
      ],
      "metadata": {
        "id": "q2OnT4daPLws"
      },
      "execution_count": null,
      "outputs": []
    },
    {
      "cell_type": "code",
      "source": [
        "SVCmodel = LinearSVC()\n",
        "SVCmodel.fit(X_train_tfidf, y_train)\n",
        "model_Evaluate(SVCmodel,X_test_tfidf,y_test)\n",
        "y_pred2 = SVCmodel.predict(X_test_tfidf)"
      ],
      "metadata": {
        "colab": {
          "base_uri": "https://localhost:8080/",
          "height": 481
        },
        "id": "CMnVjM9kPLp8",
        "outputId": "3553d16e-cd48-4a30-a424-b6680efe6668"
      },
      "execution_count": null,
      "outputs": [
        {
          "output_type": "stream",
          "name": "stdout",
          "text": [
            "              precision    recall  f1-score   support\n",
            "\n",
            "     Pos/Neu       0.87      0.89      0.88      2533\n",
            "    negative       0.71      0.65      0.68      1001\n",
            "\n",
            "    accuracy                           0.83      3534\n",
            "   macro avg       0.79      0.77      0.78      3534\n",
            "weighted avg       0.82      0.83      0.82      3534\n",
            "\n"
          ]
        },
        {
          "output_type": "display_data",
          "data": {
            "text/plain": [
              "<Figure size 432x288 with 2 Axes>"
            ],
            "image/png": "[encoded data removed]"
          },
          "metadata": {
            "needs_background": "light"
          }
        }
      ]
    },
    {
      "cell_type": "code",
      "source": [
        "y_train = data2_train.sentiment\n",
        "y_test = data2_test.sentiment\n",
        "\n",
        "word_vectorizer = TfidfVectorizer(\n",
        "    sublinear_tf=True,\n",
        "    strip_accents='unicode',\n",
        "    analyzer='word',\n",
        "    token_pattern=r'\\w{1,}',\n",
        "    ngram_range=(1, 1),\n",
        "    max_features=30000)\n",
        "char_vectorizer = TfidfVectorizer(\n",
        "    sublinear_tf=True,\n",
        "    strip_accents='unicode',\n",
        "    analyzer='char',\n",
        "    ngram_range=(1, 4),\n",
        "    max_features=30000)\n",
        "vectorizer = make_union(word_vectorizer, char_vectorizer, n_jobs=2)\n",
        "vectorizer.fit(data2_train.NOUN)\n",
        "X_train_NOUN = vectorizer.transform(data2_train.NOUN)\n",
        "X_test_NOUN = vectorizer.transform(data2_test.NOUN)\n",
        "vectorizer.fit(data2_train.INTJ)\n",
        "X_train_INTJ = vectorizer.transform(data2_train.INTJ)\n",
        "X_test_INTJ = vectorizer.transform(data2_test.INTJ)\n",
        "vectorizer.fit(data2_train.VERB)\n",
        "X_train_VERB = vectorizer.transform(data2_train.VERB)\n",
        "X_test_VERB = vectorizer.transform(data2_test.VERB)\n",
        "vectorizer.fit(data2_train.ADJ)\n",
        "X_train_ADJ = vectorizer.transform(data2_train.ADJ)\n",
        "X_test_ADJ = vectorizer.transform(data2_test.ADJ)\n",
        "\n",
        "vectoriser = TfidfVectorizer(ngram_range=(1,2), max_features=500000)\n",
        "vectoriser.fit(data2_train.text)\n",
        "X_train_text = vectoriser.transform(data2_train.text)\n",
        "X_test_text  = vectoriser.transform(data2_test.text)\n",
        "\n",
        "from scipy.sparse import hstack\n",
        "X_train_tfidf = hstack([X_train_NOUN,X_train_INTJ,X_train_VERB,X_train_ADJ,X_train_text])\n",
        "X_test_tfidf = hstack([X_test_NOUN,X_test_INTJ,X_test_VERB,X_test_ADJ,X_test_text])"
      ],
      "metadata": {
        "id": "-pp_2VBxNnwA"
      },
      "execution_count": null,
      "outputs": []
    },
    {
      "cell_type": "code",
      "source": [
        "SVCmodel = LinearSVC()\n",
        "SVCmodel.fit(X_train_tfidf, y_train)\n",
        "model_Evaluate(SVCmodel,X_test_tfidf,y_test)\n",
        "y_pred2 = SVCmodel.predict(X_test_tfidf)"
      ],
      "metadata": {
        "colab": {
          "base_uri": "https://localhost:8080/",
          "height": 481
        },
        "outputId": "86857991-819d-45a6-ca26-226e7b3becc6",
        "id": "yS-aidZMjnNW"
      },
      "execution_count": null,
      "outputs": [
        {
          "output_type": "stream",
          "name": "stdout",
          "text": [
            "              precision    recall  f1-score   support\n",
            "\n",
            "     neutral       0.80      0.85      0.82      1430\n",
            "    positive       0.79      0.73      0.76      1103\n",
            "\n",
            "    accuracy                           0.80      2533\n",
            "   macro avg       0.79      0.79      0.79      2533\n",
            "weighted avg       0.79      0.80      0.79      2533\n",
            "\n"
          ]
        },
        {
          "output_type": "display_data",
          "data": {
            "text/plain": [
              "<Figure size 432x288 with 2 Axes>"
            ],
            "image/png": "[encoded data removed]"
          },
          "metadata": {
            "needs_background": "light"
          }
        }
      ]
    }
  ]
}